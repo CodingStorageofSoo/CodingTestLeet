{
 "cells": [
  {
   "cell_type": "code",
   "execution_count": 3,
   "source": [
    "##### Solution \n",
    "\n",
    "WORD_KEY = '$'\n",
    "\n",
    "def make_trie(*words):\n",
    "    trie = dict()\n",
    "    for word in words:\n",
    "        temp_dict = trie\n",
    "        for letter in word:\n",
    "            temp_dict = temp_dict.setdefault(letter, {})\n",
    "        temp_dict[WORD_KEY] = word\n",
    "        return trie"
   ],
   "outputs": [],
   "metadata": {}
  },
  {
   "cell_type": "code",
   "execution_count": 4,
   "source": [
    "##### EX 1\n",
    "\n",
    "node = {}\n",
    "node.setdefault('p',{})\n",
    "node.setdefault('key', 'try')\n",
    "print(node)"
   ],
   "outputs": [
    {
     "output_type": "stream",
     "name": "stdout",
     "text": [
      "{'p': {}, 'key': 'try'}\n"
     ]
    }
   ],
   "metadata": {}
  },
  {
   "cell_type": "code",
   "execution_count": 5,
   "source": [
    "##### EX 2\n",
    "\n",
    "node = {}\n",
    "node = node.setdefault('p',{})\n",
    "node = node.setdefault('key', 'try')\n",
    "print(node)"
   ],
   "outputs": [
    {
     "output_type": "stream",
     "name": "stdout",
     "text": [
      "try\n"
     ]
    }
   ],
   "metadata": {}
  },
  {
   "cell_type": "code",
   "execution_count": 6,
   "source": [
    "##### EX 3\n",
    "\n",
    "trie = {}\n",
    "node = trie\n",
    "node.setdefault('p',{})\n",
    "node.setdefault('key', 'try')\n",
    "print(node)\n",
    "print(trie)"
   ],
   "outputs": [
    {
     "output_type": "stream",
     "name": "stdout",
     "text": [
      "{'p': {}, 'key': 'try'}\n",
      "{'p': {}, 'key': 'try'}\n"
     ]
    }
   ],
   "metadata": {}
  },
  {
   "cell_type": "code",
   "execution_count": 7,
   "source": [
    "##### EX 4\n",
    "\n",
    "trie = {}\n",
    "node = trie\n",
    "node = node.setdefault('p',{})\n",
    "node = node.setdefault('key', 'try')\n",
    "print(node)\n",
    "print(trie)"
   ],
   "outputs": [
    {
     "output_type": "stream",
     "name": "stdout",
     "text": [
      "try\n",
      "{'p': {'key': 'try'}}\n"
     ]
    }
   ],
   "metadata": {}
  }
 ],
 "metadata": {
  "orig_nbformat": 4,
  "language_info": {
   "name": "python",
   "version": "3.8.2",
   "mimetype": "text/x-python",
   "codemirror_mode": {
    "name": "ipython",
    "version": 3
   },
   "pygments_lexer": "ipython3",
   "nbconvert_exporter": "python",
   "file_extension": ".py"
  },
  "kernelspec": {
   "name": "python3",
   "display_name": "Python 3.8.2 64-bit"
  },
  "interpreter": {
   "hash": "31f2aee4e71d21fbe5cf8b01ff0e069b9275f58929596ceb00d14d90e3e16cd6"
  }
 },
 "nbformat": 4,
 "nbformat_minor": 2
}