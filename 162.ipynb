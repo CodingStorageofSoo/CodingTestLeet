{
 "cells": [
  {
   "cell_type": "code",
   "execution_count": 3,
   "metadata": {},
   "outputs": [],
   "source": [
    "nums = [1,2,1,3,5,6,4]"
   ]
  },
  {
   "cell_type": "code",
   "execution_count": 11,
   "metadata": {},
   "outputs": [
    {
     "name": "stdout",
     "output_type": "stream",
     "text": [
      "[5, 6, 4]\n"
     ]
    }
   ],
   "source": [
    "start = 0 \n",
    "end = len(nums)\n",
    "mid = (start + end) // 2\n",
    "\n",
    "if nums[mid] > nums[mid+1]:\n",
    "    print(nums[start:(mid+1)])\n",
    "\n",
    "else:\n",
    "    print(nums[(mid+1):end])\n"
   ]
  },
  {
   "cell_type": "code",
   "execution_count": 12,
   "metadata": {},
   "outputs": [
    {
     "name": "stdout",
     "output_type": "stream",
     "text": [
      "[5, 6]\n"
     ]
    }
   ],
   "source": [
    "\n",
    "new = nums[(mid+1):end]\n",
    "\n",
    "start = 0 \n",
    "end = len(new)\n",
    "mid = (start + end) // 2\n",
    "\n",
    "if new[mid] > new[mid+1]:\n",
    "    print(new[start:(mid+1)])\n",
    "\n",
    "else:\n",
    "    print(new[(mid+1):end])"
   ]
  },
  {
   "cell_type": "code",
   "execution_count": 8,
   "metadata": {},
   "outputs": [],
   "source": [
    "def cutting (nums):\n",
    "    \n",
    "    start = 0 \n",
    "    end = len(nums)\n",
    "    mid = (start + end) // 2\n",
    "\n",
    "    if start == end :\n",
    "        return start \n",
    "\n",
    "    if nums[mid] > nums[mid+1]:\n",
    "        new = nums[start:(mid+1)]\n",
    "        return cutting (new)\n",
    "    else:\n",
    "        new = nums[(mid+1):end]\n",
    "        return cutting (new)"
   ]
  },
  {
   "cell_type": "code",
   "execution_count": 9,
   "metadata": {},
   "outputs": [
    {
     "ename": "IndexError",
     "evalue": "list index out of range",
     "output_type": "error",
     "traceback": [
      "\u001b[1;31m---------------------------------------------------------------------------\u001b[0m",
      "\u001b[1;31mIndexError\u001b[0m                                Traceback (most recent call last)",
      "\u001b[1;32mc:\\Users\\chlqu\\OneDrive\\바탕 화면\\CodingTestLeet\\162.ipynb Cell 3'\u001b[0m in \u001b[0;36m<module>\u001b[1;34m\u001b[0m\n\u001b[1;32m----> <a href='vscode-notebook-cell:/c%3A/Users/chlqu/OneDrive/%EB%B0%94%ED%83%95%20%ED%99%94%EB%A9%B4/CodingTestLeet/162.ipynb#ch0000003?line=0'>1</a>\u001b[0m cutting (nums)\n",
      "\u001b[1;32mc:\\Users\\chlqu\\OneDrive\\바탕 화면\\CodingTestLeet\\162.ipynb Cell 2'\u001b[0m in \u001b[0;36mcutting\u001b[1;34m(nums)\u001b[0m\n\u001b[0;32m     <a href='vscode-notebook-cell:/c%3A/Users/chlqu/OneDrive/%EB%B0%94%ED%83%95%20%ED%99%94%EB%A9%B4/CodingTestLeet/162.ipynb#ch0000002?line=12'>13</a>\u001b[0m \u001b[39melse\u001b[39;00m:\n\u001b[0;32m     <a href='vscode-notebook-cell:/c%3A/Users/chlqu/OneDrive/%EB%B0%94%ED%83%95%20%ED%99%94%EB%A9%B4/CodingTestLeet/162.ipynb#ch0000002?line=13'>14</a>\u001b[0m     new \u001b[39m=\u001b[39m nums[(mid\u001b[39m+\u001b[39m\u001b[39m1\u001b[39m):end]\n\u001b[1;32m---> <a href='vscode-notebook-cell:/c%3A/Users/chlqu/OneDrive/%EB%B0%94%ED%83%95%20%ED%99%94%EB%A9%B4/CodingTestLeet/162.ipynb#ch0000002?line=14'>15</a>\u001b[0m     \u001b[39mreturn\u001b[39;00m cutting (new)\n",
      "\u001b[1;32mc:\\Users\\chlqu\\OneDrive\\바탕 화면\\CodingTestLeet\\162.ipynb Cell 2'\u001b[0m in \u001b[0;36mcutting\u001b[1;34m(nums)\u001b[0m\n\u001b[0;32m     <a href='vscode-notebook-cell:/c%3A/Users/chlqu/OneDrive/%EB%B0%94%ED%83%95%20%ED%99%94%EB%A9%B4/CodingTestLeet/162.ipynb#ch0000002?line=9'>10</a>\u001b[0m \u001b[39mif\u001b[39;00m nums[mid] \u001b[39m>\u001b[39m nums[mid\u001b[39m+\u001b[39m\u001b[39m1\u001b[39m]:\n\u001b[0;32m     <a href='vscode-notebook-cell:/c%3A/Users/chlqu/OneDrive/%EB%B0%94%ED%83%95%20%ED%99%94%EB%A9%B4/CodingTestLeet/162.ipynb#ch0000002?line=10'>11</a>\u001b[0m     new \u001b[39m=\u001b[39m nums[start:(mid\u001b[39m+\u001b[39m\u001b[39m1\u001b[39m)]\n\u001b[1;32m---> <a href='vscode-notebook-cell:/c%3A/Users/chlqu/OneDrive/%EB%B0%94%ED%83%95%20%ED%99%94%EB%A9%B4/CodingTestLeet/162.ipynb#ch0000002?line=11'>12</a>\u001b[0m     \u001b[39mreturn\u001b[39;00m cutting (new)\n\u001b[0;32m     <a href='vscode-notebook-cell:/c%3A/Users/chlqu/OneDrive/%EB%B0%94%ED%83%95%20%ED%99%94%EB%A9%B4/CodingTestLeet/162.ipynb#ch0000002?line=12'>13</a>\u001b[0m \u001b[39melse\u001b[39;00m:\n\u001b[0;32m     <a href='vscode-notebook-cell:/c%3A/Users/chlqu/OneDrive/%EB%B0%94%ED%83%95%20%ED%99%94%EB%A9%B4/CodingTestLeet/162.ipynb#ch0000002?line=13'>14</a>\u001b[0m     new \u001b[39m=\u001b[39m nums[(mid\u001b[39m+\u001b[39m\u001b[39m1\u001b[39m):end]\n",
      "\u001b[1;32mc:\\Users\\chlqu\\OneDrive\\바탕 화면\\CodingTestLeet\\162.ipynb Cell 2'\u001b[0m in \u001b[0;36mcutting\u001b[1;34m(nums)\u001b[0m\n\u001b[0;32m      <a href='vscode-notebook-cell:/c%3A/Users/chlqu/OneDrive/%EB%B0%94%ED%83%95%20%ED%99%94%EB%A9%B4/CodingTestLeet/162.ipynb#ch0000002?line=6'>7</a>\u001b[0m \u001b[39mif\u001b[39;00m start \u001b[39m==\u001b[39m end :\n\u001b[0;32m      <a href='vscode-notebook-cell:/c%3A/Users/chlqu/OneDrive/%EB%B0%94%ED%83%95%20%ED%99%94%EB%A9%B4/CodingTestLeet/162.ipynb#ch0000002?line=7'>8</a>\u001b[0m     \u001b[39mreturn\u001b[39;00m start \n\u001b[1;32m---> <a href='vscode-notebook-cell:/c%3A/Users/chlqu/OneDrive/%EB%B0%94%ED%83%95%20%ED%99%94%EB%A9%B4/CodingTestLeet/162.ipynb#ch0000002?line=9'>10</a>\u001b[0m \u001b[39mif\u001b[39;00m nums[mid] \u001b[39m>\u001b[39m nums[mid\u001b[39m+\u001b[39;49m\u001b[39m1\u001b[39;49m]:\n\u001b[0;32m     <a href='vscode-notebook-cell:/c%3A/Users/chlqu/OneDrive/%EB%B0%94%ED%83%95%20%ED%99%94%EB%A9%B4/CodingTestLeet/162.ipynb#ch0000002?line=10'>11</a>\u001b[0m     new \u001b[39m=\u001b[39m nums[start:(mid\u001b[39m+\u001b[39m\u001b[39m1\u001b[39m)]\n\u001b[0;32m     <a href='vscode-notebook-cell:/c%3A/Users/chlqu/OneDrive/%EB%B0%94%ED%83%95%20%ED%99%94%EB%A9%B4/CodingTestLeet/162.ipynb#ch0000002?line=11'>12</a>\u001b[0m     \u001b[39mreturn\u001b[39;00m cutting (new)\n",
      "\u001b[1;31mIndexError\u001b[0m: list index out of range"
     ]
    }
   ],
   "source": [
    "cutting (nums)"
   ]
  },
  {
   "cell_type": "code",
   "execution_count": null,
   "metadata": {},
   "outputs": [],
   "source": [
    "class Solution:\n",
    "    def findPeakElement(self, nums: List[int]) -> int:    \n",
    "        \n",
    "        def cutting (nums):\n",
    "\n",
    "            start = 0 \n",
    "            end = len(nums)\n",
    "            mid = (start + end) // 2\n",
    "\n",
    "            if start == end :\n",
    "                return start \n",
    "\n",
    "            if nums[mid] > nums[mid+1]:\n",
    "                return cutting (nums[start:mid+1])\n",
    "            else:\n",
    "                return cutting (nums[mid+1:end])\n",
    "            \n",
    "        return cutting (nums)\n",
    "        "
   ]
  }
 ],
 "metadata": {
  "interpreter": {
   "hash": "3516fe392b73aa4c2da58fe314a090916ee110d0f8fe6cfd79b4ffaff3759604"
  },
  "kernelspec": {
   "display_name": "Python 3.10.0 64-bit",
   "language": "python",
   "name": "python3"
  },
  "language_info": {
   "codemirror_mode": {
    "name": "ipython",
    "version": 3
   },
   "file_extension": ".py",
   "mimetype": "text/x-python",
   "name": "python",
   "nbconvert_exporter": "python",
   "pygments_lexer": "ipython3",
   "version": "3.10.0"
  },
  "orig_nbformat": 4
 },
 "nbformat": 4,
 "nbformat_minor": 2
}
