{
 "cells": [
  {
   "cell_type": "code",
   "execution_count": 33,
   "metadata": {},
   "outputs": [],
   "source": [
    "nums = [1,2,3,1]"
   ]
  },
  {
   "cell_type": "code",
   "execution_count": 11,
   "metadata": {},
   "outputs": [
    {
     "name": "stdout",
     "output_type": "stream",
     "text": [
      "[5, 6, 4]\n"
     ]
    }
   ],
   "source": [
    "start = 0 \n",
    "end = len(nums)\n",
    "mid = (start + end) // 2\n",
    "\n",
    "if nums[mid] > nums[mid+1]:\n",
    "    print(nums[start:(mid+1)])\n",
    "\n",
    "else:\n",
    "    print(nums[(mid+1):end])\n"
   ]
  },
  {
   "cell_type": "code",
   "execution_count": 29,
   "metadata": {},
   "outputs": [
    {
     "name": "stdout",
     "output_type": "stream",
     "text": [
      "0\n",
      "1\n",
      "0\n",
      "5\n",
      "6\n",
      "[6]\n"
     ]
    }
   ],
   "source": [
    "new = [5, 6]\n",
    "\n",
    "start = 0 \n",
    "end = len(new)-1\n",
    "mid = (start + end) // 2\n",
    "\n",
    "print(start)\n",
    "print(end)\n",
    "print(mid)\n",
    "print(new[mid])\n",
    "print(new[mid+1])\n",
    "\n",
    "if new[mid] > new[mid+1]:\n",
    "    print(new[start:(mid+1)])\n",
    "\n",
    "else:\n",
    "    print(new[(mid+1):end+1])"
   ]
  },
  {
   "cell_type": "code",
   "execution_count": 36,
   "metadata": {},
   "outputs": [],
   "source": [
    "def cutting (nums, start, end):\n",
    "    \n",
    "    start = 0 \n",
    "    end = len(nums)-1 \n",
    "    mid = (start + end) // 2\n",
    "\n",
    "    if start == end :\n",
    "        return start\n",
    "\n",
    "    if nums[mid] > nums[mid+1]:\n",
    "        new = nums[start:(mid+1)]\n",
    "        print(new)\n",
    "        return cutting (new)\n",
    "    else:\n",
    "        new = nums[(mid+1):end+1]\n",
    "        print(new)\n",
    "        return cutting (new)"
   ]
  },
  {
   "cell_type": "code",
   "execution_count": 37,
   "metadata": {},
   "outputs": [
    {
     "name": "stdout",
     "output_type": "stream",
     "text": [
      "[3, 1]\n",
      "[3]\n"
     ]
    },
    {
     "data": {
      "text/plain": [
       "0"
      ]
     },
     "execution_count": 37,
     "metadata": {},
     "output_type": "execute_result"
    }
   ],
   "source": [
    "cutting (nums)"
   ]
  },
  {
   "cell_type": "code",
   "execution_count": null,
   "metadata": {},
   "outputs": [],
   "source": [
    "class Solution:\n",
    "    def findPeakElement(self, nums: List[int]) -> int:    \n",
    "        \n",
    "        def cutting (nums):\n",
    "\n",
    "            start = 0 \n",
    "            end = len(nums)\n",
    "            mid = (start + end) // 2\n",
    "\n",
    "            if start == end :\n",
    "                return start \n",
    "\n",
    "            if nums[mid] > nums[mid+1]:\n",
    "                return cutting (nums[start:mid+1])\n",
    "            else:\n",
    "                return cutting (nums[mid+1:end])\n",
    "            \n",
    "        return cutting (nums)\n",
    "        "
   ]
  }
 ],
 "metadata": {
  "interpreter": {
   "hash": "3516fe392b73aa4c2da58fe314a090916ee110d0f8fe6cfd79b4ffaff3759604"
  },
  "kernelspec": {
   "display_name": "Python 3.10.0 64-bit",
   "language": "python",
   "name": "python3"
  },
  "language_info": {
   "codemirror_mode": {
    "name": "ipython",
    "version": 3
   },
   "file_extension": ".py",
   "mimetype": "text/x-python",
   "name": "python",
   "nbconvert_exporter": "python",
   "pygments_lexer": "ipython3",
   "version": "3.10.0"
  },
  "orig_nbformat": 4
 },
 "nbformat": 4,
 "nbformat_minor": 2
}
