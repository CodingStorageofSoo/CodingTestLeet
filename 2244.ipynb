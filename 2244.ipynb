{
 "cells": [
  {
   "cell_type": "code",
   "execution_count": 24,
   "source": [
    "tasks = [2,2,3,3,2,4,4,4,4,4]"
   ],
   "outputs": [],
   "metadata": {}
  },
  {
   "cell_type": "code",
   "execution_count": 26,
   "source": [
    "tasks = sorted(tasks)\n",
    "\n",
    "target_list = list(set(tasks))\n",
    "\n",
    "from math import ceil\n",
    "\n",
    "i = 0\n",
    "total = 0\n",
    "for target in target_list :\n",
    "    tmp = 0\n",
    "    while i < len(tasks) and target == tasks[i] :\n",
    "        tmp += 1\n",
    "        i += 1\n",
    "    total = total + ceil(tmp / 3)\n",
    "\n",
    "return total "
   ],
   "outputs": [
    {
     "output_type": "execute_result",
     "data": {
      "text/plain": [
       "[2, 2, 2, 3, 3, 4, 4, 4, 4, 4]"
      ]
     },
     "metadata": {},
     "execution_count": 26
    }
   ],
   "metadata": {}
  },
  {
   "cell_type": "code",
   "execution_count": 29,
   "source": [
    "f"
   ],
   "outputs": [
    {
     "output_type": "stream",
     "name": "stdout",
     "text": [
      "3 3 1\n",
      "5 2 2\n",
      "10 5 4\n",
      "4\n"
     ]
    }
   ],
   "metadata": {}
  },
  {
   "cell_type": "code",
   "execution_count": 17,
   "source": [
    "from math import ceil\n",
    "\n",
    "i = 0\n",
    "total = 0\n",
    "for target in target_list :\n",
    "    print(target)\n",
    "    tmp = 0\n",
    "    print(tmp)\n",
    "    while target == tasks[i]:\n",
    "        print('hl', tasks[i], i)\n",
    "        tmp += 1\n",
    "        i += 1\n",
    "    print(target, i, tmp)"
   ],
   "outputs": [
    {
     "output_type": "stream",
     "name": "stdout",
     "text": [
      "2\n",
      "0\n",
      "hl 2 0\n",
      "hl 2 1\n",
      "2 2 2\n",
      "3\n",
      "0\n",
      "hl 3 2\n",
      "hl 3 3\n",
      "3 4 2\n",
      "4\n",
      "0\n",
      "4 4 0\n"
     ]
    }
   ],
   "metadata": {}
  },
  {
   "cell_type": "code",
   "execution_count": 19,
   "source": [
    "i = 0\n",
    "while tasks[i] == 2:\n",
    "    print('hello')\n",
    "    i += 1"
   ],
   "outputs": [
    {
     "output_type": "stream",
     "name": "stdout",
     "text": [
      "hello\n",
      "hello\n"
     ]
    }
   ],
   "metadata": {}
  },
  {
   "cell_type": "code",
   "execution_count": 22,
   "source": [
    "tasks[0]\n",
    "tasks[1]\n",
    "tasks[2]"
   ],
   "outputs": [
    {
     "output_type": "execute_result",
     "data": {
      "text/plain": [
       "3"
      ]
     },
     "metadata": {},
     "execution_count": 22
    }
   ],
   "metadata": {}
  },
  {
   "cell_type": "code",
   "execution_count": null,
   "source": [],
   "outputs": [],
   "metadata": {}
  }
 ],
 "metadata": {
  "orig_nbformat": 4,
  "language_info": {
   "name": "python",
   "version": "3.8.2",
   "mimetype": "text/x-python",
   "codemirror_mode": {
    "name": "ipython",
    "version": 3
   },
   "pygments_lexer": "ipython3",
   "nbconvert_exporter": "python",
   "file_extension": ".py"
  },
  "kernelspec": {
   "name": "python3",
   "display_name": "Python 3.8.2 64-bit"
  },
  "interpreter": {
   "hash": "31f2aee4e71d21fbe5cf8b01ff0e069b9275f58929596ceb00d14d90e3e16cd6"
  }
 },
 "nbformat": 4,
 "nbformat_minor": 2
}