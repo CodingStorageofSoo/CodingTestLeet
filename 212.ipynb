{
 "cells": [
  {
   "cell_type": "code",
   "execution_count": 12,
   "source": [
    "board = [[\"o\",\"a\",\"a\",\"n\"],[\"e\",\"t\",\"a\",\"e\"],[\"i\",\"h\",\"k\",\"r\"],[\"i\",\"f\",\"l\",\"v\"]] \n",
    "words = [\"oath\",\"pea\",\"eat\",\"rain\"]"
   ],
   "outputs": [],
   "metadata": {}
  },
  {
   "cell_type": "code",
   "execution_count": 23,
   "source": [
    "# InsertIntoTrie\n",
    "\n",
    "WORD_KEY = '_end'\n",
    "trie = {}\n",
    "for word in words:\n",
    "    node = trie\n",
    "    for letter in word:\n",
    "        node = node.setdefault(letter, {})\n",
    "    node[WORD_KEY] = word"
   ],
   "outputs": [],
   "metadata": {}
  },
  {
   "cell_type": "code",
   "execution_count": 24,
   "source": [
    "trie"
   ],
   "outputs": [
    {
     "output_type": "execute_result",
     "data": {
      "text/plain": [
       "{'o': {'a': {'t': {'h': {'_end': 'oath'}}}},\n",
       " 'p': {'e': {'a': {'_end': 'pea'}}},\n",
       " 'e': {'a': {'t': {'_end': 'eat'}}},\n",
       " 'r': {'a': {'i': {'n': {'_end': 'rain'}}}}}"
      ]
     },
     "metadata": {},
     "execution_count": 24
    }
   ],
   "metadata": {}
  },
  {
   "cell_type": "code",
   "execution_count": 5,
   "source": [
    "def backtracking(row, col, parent):    \n",
    "    \n",
    "    letter = board[row][col]\n",
    "    currNode = parent[letter]\n",
    "    \n",
    "    word_match = currNode.pop(WORD_KEY, False)\n",
    "    if word_match:\n",
    "        matchedWords.append(word_match)\n",
    "    \n",
    "    # Before the EXPLORATION, mark the cell as visited \n",
    "    board[row][col] = '#'\n",
    "    \n",
    "    # Explore the neighbors in 4 directions, i.e. up, right, down, left\n",
    "    for (rowOffset, colOffset) in [(-1, 0), (0, 1), (1, 0), (0, -1)]:\n",
    "        newRow, newCol = row + rowOffset, col + colOffset     \n",
    "        if  (0 <= newRow < rowNum) and (0 <= newCol < colNum) and (board[newRow][newCol] in currNode) :\n",
    "            backtracking(newRow, newCol, currNode)\n",
    "\n",
    "    # End of EXPLORATION, we restore the cell\n",
    "    board[row][col] = letter\n",
    "\n",
    "    # Optimization: incrementally remove the matched leaf node in Trie.\n",
    "    if not currNode:\n",
    "        parent.pop(letter)"
   ],
   "outputs": [],
   "metadata": {}
  },
  {
   "cell_type": "code",
   "execution_count": 6,
   "source": [
    "rowNum = len(board)\n",
    "colNum = len(board[0])\n",
    "\n",
    "matchedWords = []\n",
    "\n",
    "for row in range(rowNum):\n",
    "    for col in range(colNum):\n",
    "        if board[row][col] in trie:\n",
    "            backtracking(row, col, trie)"
   ],
   "outputs": [],
   "metadata": {}
  },
  {
   "cell_type": "code",
   "execution_count": 7,
   "source": [
    "matchedWords"
   ],
   "outputs": [
    {
     "output_type": "execute_result",
     "data": {
      "text/plain": [
       "['oath', 'eat']"
      ]
     },
     "metadata": {},
     "execution_count": 7
    }
   ],
   "metadata": {}
  }
 ],
 "metadata": {
  "orig_nbformat": 4,
  "language_info": {
   "name": "python",
   "version": "3.8.2",
   "mimetype": "text/x-python",
   "codemirror_mode": {
    "name": "ipython",
    "version": 3
   },
   "pygments_lexer": "ipython3",
   "nbconvert_exporter": "python",
   "file_extension": ".py"
  },
  "kernelspec": {
   "name": "python3",
   "display_name": "Python 3.8.2 64-bit"
  },
  "interpreter": {
   "hash": "31f2aee4e71d21fbe5cf8b01ff0e069b9275f58929596ceb00d14d90e3e16cd6"
  }
 },
 "nbformat": 4,
 "nbformat_minor": 2
}