{
 "cells": [
  {
   "cell_type": "code",
   "execution_count": 48,
   "source": [
    "def find (parent, x):\n",
    "    if parent[x] != x:\n",
    "        parent[x] = find (parent, parent[x])\n",
    "    return parent[x]"
   ],
   "outputs": [],
   "metadata": {}
  },
  {
   "cell_type": "code",
   "execution_count": 49,
   "source": [
    "def union (parent, x, y) :\n",
    "    a = find(parent, x) \n",
    "    b = find(parent, y) \n",
    "    if a > b:\n",
    "        parent[a] = b\n",
    "    elif a < b :\n",
    "        parent[b] = a\n",
    "    else :\n",
    "        return False\n",
    "    \n",
    "    return True "
   ],
   "outputs": [],
   "metadata": {}
  },
  {
   "cell_type": "code",
   "execution_count": 61,
   "source": [
    "n = 5\n",
    "connections = [[2,1,50459],[3,2,47477],[4,2,52585],[5,3,16477]]"
   ],
   "outputs": [],
   "metadata": {}
  },
  {
   "cell_type": "code",
   "execution_count": 62,
   "source": [
    "connections.sort(key = lambda x : x[2])"
   ],
   "outputs": [],
   "metadata": {}
  },
  {
   "cell_type": "code",
   "execution_count": 63,
   "source": [
    "connections"
   ],
   "outputs": [
    {
     "output_type": "execute_result",
     "data": {
      "text/plain": [
       "[[5, 3, 16477], [3, 2, 47477], [2, 1, 50459], [4, 2, 52585]]"
      ]
     },
     "metadata": {},
     "execution_count": 63
    }
   ],
   "metadata": {}
  },
  {
   "cell_type": "code",
   "execution_count": 64,
   "source": [
    "parent = [i for i in range (n+1)]"
   ],
   "outputs": [],
   "metadata": {}
  },
  {
   "cell_type": "code",
   "execution_count": 65,
   "source": [
    "total_cost = 0\n",
    "for connection in connections:\n",
    "    a, b, cost = connection\n",
    "    if union(parent, a, b):\n",
    "        total_cost = total_cost + cost"
   ],
   "outputs": [
    {
     "output_type": "stream",
     "name": "stdout",
     "text": [
      "16477\n",
      "63954\n",
      "114413\n",
      "166998\n",
      "166998\n"
     ]
    }
   ],
   "metadata": {}
  },
  {
   "cell_type": "code",
   "execution_count": 60,
   "source": [
    "for i in range(n+1):\n",
    "    find (parent, i)\n",
    "    \n",
    "if len(set(parent[1:])) ==  1:              \n",
    "    print(total_cost)\n",
    "else :\n",
    "    print(False)"
   ],
   "outputs": [
    {
     "output_type": "stream",
     "name": "stdout",
     "text": [
      "6\n"
     ]
    }
   ],
   "metadata": {}
  }
 ],
 "metadata": {
  "orig_nbformat": 4,
  "language_info": {
   "name": "python",
   "version": "3.8.2",
   "mimetype": "text/x-python",
   "codemirror_mode": {
    "name": "ipython",
    "version": 3
   },
   "pygments_lexer": "ipython3",
   "nbconvert_exporter": "python",
   "file_extension": ".py"
  },
  "kernelspec": {
   "name": "python3",
   "display_name": "Python 3.8.2 64-bit"
  },
  "interpreter": {
   "hash": "31f2aee4e71d21fbe5cf8b01ff0e069b9275f58929596ceb00d14d90e3e16cd6"
  }
 },
 "nbformat": 4,
 "nbformat_minor": 2
}