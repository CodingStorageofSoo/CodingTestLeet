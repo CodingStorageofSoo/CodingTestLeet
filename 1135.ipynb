{
 "cells": [
  {
   "cell_type": "code",
   "execution_count": 1,
   "source": [
    "n = 3\n",
    "connections = [[1,2,5],[1,3,6],[2,3,1]]"
   ],
   "outputs": [],
   "metadata": {}
  },
  {
   "cell_type": "code",
   "execution_count": 3,
   "source": [
    "connections.sort(key = lambda x : x[2])"
   ],
   "outputs": [
    {
     "output_type": "execute_result",
     "data": {
      "text/plain": [
       "[[2, 3, 1], [1, 2, 5], [1, 3, 6]]"
      ]
     },
     "metadata": {},
     "execution_count": 3
    }
   ],
   "metadata": {}
  },
  {
   "cell_type": "code",
   "execution_count": 4,
   "source": [
    "connections"
   ],
   "outputs": [
    {
     "output_type": "execute_result",
     "data": {
      "text/plain": [
       "[[2, 3, 1], [1, 2, 5], [1, 3, 6]]"
      ]
     },
     "metadata": {},
     "execution_count": 4
    }
   ],
   "metadata": {}
  },
  {
   "cell_type": "code",
   "execution_count": 5,
   "source": [
    "graph = [[] for _ in range(n+1)]"
   ],
   "outputs": [],
   "metadata": {}
  },
  {
   "cell_type": "code",
   "execution_count": null,
   "source": [
    "for connection in connections:\n",
    "    a, b, cost = connection\n",
    "    graph[a].append(b)\n",
    "    graph[b].append(a)\n",
    "\n"
   ],
   "outputs": [],
   "metadata": {}
  },
  {
   "cell_type": "code",
   "execution_count": null,
   "source": [
    "def detect ():\n",
    "\n",
    "    graph"
   ],
   "outputs": [],
   "metadata": {}
  },
  {
   "cell_type": "code",
   "execution_count": 6,
   "source": [
    "def find (parent, x):\n",
    "\n",
    "    if parent[x] != x:\n",
    "        parent[x] = find (parent, parent[x])\n",
    "\n",
    "    return parent[x]"
   ],
   "outputs": [],
   "metadata": {}
  },
  {
   "cell_type": "code",
   "execution_count": null,
   "source": [
    "def union (parent, x, y) :\n",
    "\n",
    "    a = find(parent, x) \n",
    "    b = find(parent, y) \n",
    "\n",
    "    if a > b:\n",
    "        parent[x] = b\n",
    "    elif a < b:\n",
    "        parent[y] = a\n",
    "    else:\n",
    "\n",
    "        \n",
    "\n",
    "\n",
    "\n",
    "    parent[x]\n",
    "    parent[y]"
   ],
   "outputs": [],
   "metadata": {}
  }
 ],
 "metadata": {
  "orig_nbformat": 4,
  "language_info": {
   "name": "python",
   "version": "3.8.2",
   "mimetype": "text/x-python",
   "codemirror_mode": {
    "name": "ipython",
    "version": 3
   },
   "pygments_lexer": "ipython3",
   "nbconvert_exporter": "python",
   "file_extension": ".py"
  },
  "kernelspec": {
   "name": "python3",
   "display_name": "Python 3.8.2 64-bit"
  },
  "interpreter": {
   "hash": "31f2aee4e71d21fbe5cf8b01ff0e069b9275f58929596ceb00d14d90e3e16cd6"
  }
 },
 "nbformat": 4,
 "nbformat_minor": 2
}