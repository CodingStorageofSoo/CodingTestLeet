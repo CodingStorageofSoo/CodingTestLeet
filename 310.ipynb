{
 "cells": [
  {
   "cell_type": "code",
   "execution_count": null,
   "source": [
    "class Solution:\n",
    "    def findMinHeightTrees(self, n: int, edges: List[List[int]]) -> List[int]:\n",
    "\n",
    "        # edge cases\n",
    "        if n <= 2:\n",
    "            return [i for i in range(n)]\n",
    "\n",
    "        # Build the graph with the adjacency list\n",
    "        neighbors = [set() for i in range(n)]\n",
    "        for start, end in edges:\n",
    "            neighbors[start].add(end)\n",
    "            neighbors[end].add(start)\n",
    "\n",
    "        # Initialize the first layer of leaves\n",
    "        leaves = []\n",
    "        for i in range(n):\n",
    "            if len(neighbors[i]) == 1:\n",
    "                leaves.append(i)\n",
    "\n",
    "        # Trim the leaves until reaching the centroids\n",
    "        remaining_nodes = n\n",
    "        while remaining_nodes > 2:\n",
    "            remaining_nodes -= len(leaves)\n",
    "            new_leaves = []\n",
    "            # remove the current leaves along with the edges\n",
    "            while leaves:\n",
    "                leaf = leaves.pop()\n",
    "                # the only neighbor left for the leaf node\n",
    "                neighbor = neighbors[leaf].pop()\n",
    "                # remove the only edge left\n",
    "                neighbors[neighbor].remove(leaf)\n",
    "                if len(neighbors[neighbor]) == 1:\n",
    "                    new_leaves.append(neighbor)\n",
    "\n",
    "            # prepare for the next round\n",
    "            leaves = new_leaves\n",
    "\n",
    "        # The remaining nodes are the centroids of the graph\n",
    "        return leaves"
   ],
   "outputs": [],
   "metadata": {}
  }
 ],
 "metadata": {
  "orig_nbformat": 4,
  "language_info": {
   "name": "python",
   "version": "3.8.2",
   "mimetype": "text/x-python",
   "codemirror_mode": {
    "name": "ipython",
    "version": 3
   },
   "pygments_lexer": "ipython3",
   "nbconvert_exporter": "python",
   "file_extension": ".py"
  },
  "kernelspec": {
   "name": "python3",
   "display_name": "Python 3.8.2 64-bit"
  },
  "interpreter": {
   "hash": "31f2aee4e71d21fbe5cf8b01ff0e069b9275f58929596ceb00d14d90e3e16cd6"
  }
 },
 "nbformat": 4,
 "nbformat_minor": 2
}