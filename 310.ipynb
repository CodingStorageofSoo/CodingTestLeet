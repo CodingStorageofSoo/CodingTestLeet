{
 "cells": [
  {
   "cell_type": "code",
   "execution_count": 3,
   "source": [
    "n = 6\n",
    "edges = [[3,0],[3,1],[3,2],[3,4],[5,4]]"
   ],
   "outputs": [],
   "metadata": {}
  },
  {
   "cell_type": "code",
   "execution_count": 5,
   "source": [
    "graph = [[] for _ in range(n)]\n",
    "for x, y in edges:\n",
    "    graph[x].append(y)\n",
    "    graph[y].append(x)\n",
    "graph"
   ],
   "outputs": [
    {
     "output_type": "execute_result",
     "data": {
      "text/plain": [
       "[[3], [3], [3], [0, 1, 2, 4], [3, 5], [4]]"
      ]
     },
     "metadata": {},
     "execution_count": 5
    }
   ],
   "metadata": {}
  },
  {
   "cell_type": "code",
   "execution_count": 32,
   "source": [
    "from collections import deque\n",
    "\n",
    "def bfs (graph, visited, start):\n",
    "\n",
    "    q = deque()\n",
    "    cnt = 0\n",
    "    q.append([start, cnt])\n",
    "    visited[start] = True\n",
    "\n",
    "    ans = []\n",
    "    while q :\n",
    "        first , first_cnt = q.popleft()\n",
    "        for next in graph[first]:\n",
    "            if visited[next] == False:\n",
    "                visited[next] = True\n",
    "                q.append([next, first_cnt+1])\n",
    "                ans.append(first_cnt+1)\n",
    "\n",
    "    return max(ans)"
   ],
   "outputs": [],
   "metadata": {}
  },
  {
   "cell_type": "code",
   "execution_count": 33,
   "source": [
    "visited = [False] * n\n",
    "bfs(graph, visited, 1)"
   ],
   "outputs": [
    {
     "output_type": "execute_result",
     "data": {
      "text/plain": [
       "3"
      ]
     },
     "metadata": {},
     "execution_count": 33
    }
   ],
   "metadata": {}
  },
  {
   "cell_type": "code",
   "execution_count": 34,
   "source": [
    "final_ans = []\n",
    "final_value = []\n",
    "for i in range(n):\n",
    "    visited = [False] * n\n",
    "    value = bfs(graph, visited, i)\n",
    "    final_ans.append([i, value])\n",
    "    final_value.append(value)"
   ],
   "outputs": [],
   "metadata": {}
  },
  {
   "cell_type": "code",
   "execution_count": 36,
   "source": [
    "max(final_value)"
   ],
   "outputs": [
    {
     "output_type": "execute_result",
     "data": {
      "text/plain": [
       "3"
      ]
     },
     "metadata": {},
     "execution_count": 36
    }
   ],
   "metadata": {}
  },
  {
   "cell_type": "code",
   "execution_count": null,
   "source": [],
   "outputs": [],
   "metadata": {}
  }
 ],
 "metadata": {
  "orig_nbformat": 4,
  "language_info": {
   "name": "python",
   "version": "3.8.2",
   "mimetype": "text/x-python",
   "codemirror_mode": {
    "name": "ipython",
    "version": 3
   },
   "pygments_lexer": "ipython3",
   "nbconvert_exporter": "python",
   "file_extension": ".py"
  },
  "kernelspec": {
   "name": "python3",
   "display_name": "Python 3.8.2 64-bit"
  },
  "interpreter": {
   "hash": "31f2aee4e71d21fbe5cf8b01ff0e069b9275f58929596ceb00d14d90e3e16cd6"
  }
 },
 "nbformat": 4,
 "nbformat_minor": 2
}