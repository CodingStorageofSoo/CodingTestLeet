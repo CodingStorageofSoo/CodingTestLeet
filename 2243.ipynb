{
 "cells": [
  {
   "cell_type": "code",
   "execution_count": null,
   "source": [
    "class Solution:\n",
    "    def digitSum(self, s: str, k: int) -> str:\n",
    "        \n",
    "        \n",
    "        def convert (num_list, k):\n",
    "\n",
    "            final = []\n",
    "            for i in range(0, len(num_list), k):\n",
    "                tmp = 0\n",
    "                for j in range(k):\n",
    "                    if i+j <= len(num_list)-1:\n",
    "                        tmp = int(num_list[i+j]) + tmp\n",
    "                final.append(tmp)\n",
    "\n",
    "            value = ''.join(map(str,final))\n",
    "            value\n",
    "            \n",
    "            return value\n",
    "        \n",
    "        if len(s) <= k:\n",
    "            return s\n",
    "        else: \n",
    "            ans = convert(s, k)\n",
    "        while len(ans) > k :\n",
    "            ans = convert(ans, k)\n",
    "\n",
    "        return ans"
   ],
   "outputs": [],
   "metadata": {}
  }
 ],
 "metadata": {
  "orig_nbformat": 4,
  "language_info": {
   "name": "python",
   "version": "3.8.2",
   "mimetype": "text/x-python",
   "codemirror_mode": {
    "name": "ipython",
    "version": 3
   },
   "pygments_lexer": "ipython3",
   "nbconvert_exporter": "python",
   "file_extension": ".py"
  },
  "kernelspec": {
   "name": "python3",
   "display_name": "Python 3.8.2 64-bit"
  },
  "interpreter": {
   "hash": "31f2aee4e71d21fbe5cf8b01ff0e069b9275f58929596ceb00d14d90e3e16cd6"
  }
 },
 "nbformat": 4,
 "nbformat_minor": 2
}