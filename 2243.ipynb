{
 "cells": [
  {
   "cell_type": "code",
   "execution_count": null,
   "source": [
    " final = []\n",
    "    for i in range(0:len(s):3):\n",
    "        final.append(s[i] + s[i+1] + s[i+2])"
   ],
   "outputs": [],
   "metadata": {}
  }
 ],
 "metadata": {
  "orig_nbformat": 4,
  "language_info": {
   "name": "python"
  }
 },
 "nbformat": 4,
 "nbformat_minor": 2
}