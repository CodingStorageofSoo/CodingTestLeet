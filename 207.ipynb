{
 "cells": [
  {
   "cell_type": "code",
   "execution_count": 3,
   "source": [
    "numCourses = 2\n",
    "prerequisites = [[0,1], [1,0]]"
   ],
   "outputs": [],
   "metadata": {}
  },
  {
   "cell_type": "code",
   "execution_count": 4,
   "source": [
    "prerequisites.sort(key=lambda x : x[1])\n",
    "prerequisites"
   ],
   "outputs": [
    {
     "output_type": "execute_result",
     "data": {
      "text/plain": [
       "[[1, 0], [0, 1]]"
      ]
     },
     "metadata": {},
     "execution_count": 4
    }
   ],
   "metadata": {}
  },
  {
   "cell_type": "code",
   "execution_count": null,
   "source": [
    "for prerequisity in prerequisites:\n",
    "    after, before = prerequisity\n",
    "    "
   ],
   "outputs": [],
   "metadata": {}
  },
  {
   "cell_type": "code",
   "execution_count": null,
   "source": [
    "while q :\n",
    "\n",
    "    q.pop()\n",
    "\n",
    "    if :\n",
    "        q.append "
   ],
   "outputs": [],
   "metadata": {}
  },
  {
   "cell_type": "code",
   "execution_count": null,
   "source": [
    "class Solution(object):\n",
    "\n",
    "    def canFinish(self, numCourses, prerequisites):\n",
    "        \n",
    "        from collections import defaultdict\n",
    "        courseDict = defaultdict(list)\n",
    "\n",
    "        for relation in prerequisites:\n",
    "            nextCourse, prevCourse = relation[0], relation[1]\n",
    "            courseDict[prevCourse].append(nextCourse)\n",
    "\n",
    "        path = [False] * numCourses\n",
    "        for currCourse in range(numCourses):\n",
    "            if self.isCyclic(currCourse, courseDict, path):\n",
    "                return False\n",
    "        return True\n",
    "\n",
    "\n"
   ],
   "outputs": [],
   "metadata": {}
  },
  {
   "cell_type": "code",
   "execution_count": null,
   "source": [
    "def isCyclic(self, currCourse, courseDict, path):\n",
    "\n",
    "    \"\"\"\n",
    "    backtracking method to check that no cycle would be formed starting from currCourse\n",
    "    \"\"\"\n",
    "\n",
    "    if path[currCourse]:\n",
    "        # come across a previously visited node, i.e. detect the cycle\n",
    "        return True\n",
    "\n",
    "    # before backtracking, mark the node in the path\n",
    "    path[currCourse] = True\n",
    "\n",
    "    # backtracking\n",
    "    ret = False\n",
    "    for child in courseDict[currCourse]:\n",
    "        ret = self.isCyclic(child, courseDict, path)\n",
    "        if ret: \n",
    "            break\n",
    "\n",
    "    # after backtracking, remove the node from the path\n",
    "    path[currCourse] = False\n",
    "    return ret"
   ],
   "outputs": [],
   "metadata": {}
  }
 ],
 "metadata": {
  "orig_nbformat": 4,
  "language_info": {
   "name": "python",
   "version": "3.8.2",
   "mimetype": "text/x-python",
   "codemirror_mode": {
    "name": "ipython",
    "version": 3
   },
   "pygments_lexer": "ipython3",
   "nbconvert_exporter": "python",
   "file_extension": ".py"
  },
  "kernelspec": {
   "name": "python3",
   "display_name": "Python 3.8.2 64-bit"
  },
  "interpreter": {
   "hash": "31f2aee4e71d21fbe5cf8b01ff0e069b9275f58929596ceb00d14d90e3e16cd6"
  }
 },
 "nbformat": 4,
 "nbformat_minor": 2
}