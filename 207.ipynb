{
 "cells": [
  {
   "cell_type": "code",
   "execution_count": 3,
   "metadata": {},
   "outputs": [],
   "source": [
    "numCourses = 2\n",
    "prerequisites = [[0,1], [1,0]]"
   ]
  },
  {
   "cell_type": "code",
   "execution_count": 4,
   "metadata": {},
   "outputs": [
    {
     "data": {
      "text/plain": [
       "[[1, 0], [0, 1]]"
      ]
     },
     "execution_count": 4,
     "metadata": {},
     "output_type": "execute_result"
    }
   ],
   "source": [
    "prerequisites.sort(key=lambda x : x[1])\n",
    "prerequisites"
   ]
  },
  {
   "cell_type": "code",
   "execution_count": null,
   "metadata": {},
   "outputs": [],
   "source": [
    "for prerequisity in prerequisites:\n",
    "    after, before = prerequisity\n",
    "    "
   ]
  },
  {
   "cell_type": "code",
   "execution_count": null,
   "metadata": {},
   "outputs": [],
   "source": [
    "while q :\n",
    "\n",
    "    q.pop()\n",
    "\n",
    "    if :\n",
    "        q.append "
   ]
  },
  {
   "cell_type": "code",
   "execution_count": null,
   "metadata": {},
   "outputs": [],
   "source": [
    "def dfs(graph, visited, i):\n",
    "\n",
    "    # if ith node is marked as being visited, then a cycle is found\n",
    "    if visited[i] == -1:\n",
    "        return False\n",
    "\n",
    "    # if it is done visted, then do not visit again\n",
    "    if visited[i] == 1:\n",
    "        return True\n",
    "\n",
    "    # mark as being visited\n",
    "    visited[i] = -1\n",
    "    # visit all the neighbours\n",
    "    for j in graph[i]:\n",
    "        if not dfs(graph, visited, j):\n",
    "            return False\n",
    "    # after visit all the neighbours, mark it as done visited\n",
    "    visited[i] = 1\n",
    "    return True"
   ]
  },
  {
   "cell_type": "code",
   "execution_count": null,
   "metadata": {},
   "outputs": [],
   "source": [
    "class Solution(object):\n",
    "    def canFinish(self, numCourses, prerequisites):\n",
    "        \"\"\"\n",
    "        :type numCourses: int\n",
    "        :type prerequisites: List[List[int]]\n",
    "        :rtype: bool\n",
    "        \"\"\"\n",
    "        graph = [[] for _ in range(numCourses)]\n",
    "        visited = [0 for _ in range(numCourses)]\n",
    "        # create graph\n",
    "        for pair in prerequisites:\n",
    "            x, y = pair\n",
    "            graph[x].append(y)\n",
    "        # visit each node\n",
    "        for i in range(numCourses):\n",
    "            if not self.dfs(graph, visited, i):\n",
    "                return False\n",
    "        return True\n",
    "    \n",
    "    "
   ]
  }
 ],
 "metadata": {
  "interpreter": {
   "hash": "31f2aee4e71d21fbe5cf8b01ff0e069b9275f58929596ceb00d14d90e3e16cd6"
  },
  "kernelspec": {
   "display_name": "Python 3.8.2 64-bit",
   "name": "python3"
  },
  "language_info": {
   "codemirror_mode": {
    "name": "ipython",
    "version": 3
   },
   "file_extension": ".py",
   "mimetype": "text/x-python",
   "name": "python",
   "nbconvert_exporter": "python",
   "pygments_lexer": "ipython3",
   "version": "3.8.2"
  },
  "orig_nbformat": 4
 },
 "nbformat": 4,
 "nbformat_minor": 2
}
