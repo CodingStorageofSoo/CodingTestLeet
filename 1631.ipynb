{
 "cells": [
  {
   "cell_type": "code",
   "execution_count": 1,
   "source": [
    "heights = [[1,2,2],[3,8,2],[5,3,5]]"
   ],
   "outputs": [],
   "metadata": {}
  },
  {
   "cell_type": "code",
   "execution_count": 2,
   "source": [
    "numRow = len(heights)\n",
    "numCol = len(heights[0])"
   ],
   "outputs": [],
   "metadata": {}
  },
  {
   "cell_type": "code",
   "execution_count": 4,
   "source": [
    "dist = [[float('inf')] * numCol for _ in range(numRow)]\n",
    "dist[0][0] = 0 \n",
    "dist"
   ],
   "outputs": [
    {
     "output_type": "execute_result",
     "data": {
      "text/plain": [
       "[[0, inf, inf], [inf, inf, inf], [inf, inf, inf]]"
      ]
     },
     "metadata": {},
     "execution_count": 4
    }
   ],
   "metadata": {}
  },
  {
   "cell_type": "code",
   "execution_count": 8,
   "source": [
    "from heapq import heappush, heappop\n",
    "\n",
    "minHeap = [(0, 0, 0)]\n",
    "dir = [0, 1, 0, -1, 0]"
   ],
   "outputs": [],
   "metadata": {}
  },
  {
   "cell_type": "code",
   "execution_count": null,
   "source": [
    "while minHeap :\n",
    "    d, r, c = heappop(minHeap)\n",
    "    if d > dist [r][c] :\n",
    "        continue\n",
    "    if r == numRow-1 and c == numCol-1:\n",
    "        print(d)\n",
    "    for i in range(4):\n",
    "        nr, nc = r + dir[i], c + dir[i+1]\n",
    "        if 0 <= nr < numRow and 0 <= nc < numCol:\n",
    "            newDist = max(d, abs(heights[nr][nc]-heights[r][c]))\n",
    "            if dist[nr][nc] > newDist:\n",
    "                dist[nr][nc] = newDist\n",
    "                heappush(minHeap,(dist[nr][nc], nr, nc))\n"
   ],
   "outputs": [],
   "metadata": {}
  }
 ],
 "metadata": {
  "orig_nbformat": 4,
  "language_info": {
   "name": "python",
   "version": "3.8.2",
   "mimetype": "text/x-python",
   "codemirror_mode": {
    "name": "ipython",
    "version": 3
   },
   "pygments_lexer": "ipython3",
   "nbconvert_exporter": "python",
   "file_extension": ".py"
  },
  "kernelspec": {
   "name": "python3",
   "display_name": "Python 3.8.2 64-bit"
  },
  "interpreter": {
   "hash": "31f2aee4e71d21fbe5cf8b01ff0e069b9275f58929596ceb00d14d90e3e16cd6"
  }
 },
 "nbformat": 4,
 "nbformat_minor": 2
}