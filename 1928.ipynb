{
 "cells": [
  {
   "cell_type": "code",
   "execution_count": 7,
   "source": [
    "maxTime = 30 \n",
    "edges = [[0,1,10],[1,2,10],[2,5,10],[0,3,1],[3,4,10],[4,5,15]]\n",
    "passingFees = [5,1,2,20,20,3]"
   ],
   "outputs": [],
   "metadata": {}
  },
  {
   "cell_type": "code",
   "execution_count": 8,
   "source": [
    "n = len(passingFees)\n",
    "best = [-1] * n"
   ],
   "outputs": [],
   "metadata": {}
  },
  {
   "cell_type": "code",
   "execution_count": 9,
   "source": [
    "cities = [ [] for _ in range(n) ]\n",
    "for cityA, cityB, time in edges:\n",
    "    cities[cityA].append((cityB, time))\n",
    "    cities[cityB].append((cityA, time))"
   ],
   "outputs": [],
   "metadata": {}
  },
  {
   "cell_type": "code",
   "execution_count": 5,
   "source": [
    "from heapq import heappush, heappop\n",
    "\n",
    "heap = [ (0, passingFees[0], 0) ]  # queue of (time to arrive, total cost upon arrival, node to arrive)\n",
    "\n",
    "while heap:\n",
    "    time1, costSoFar, node = heappop(heap)\n",
    "    if best[node] < 0 or costSoFar < best[node]:\n",
    "        best[node] = costSoFar\n",
    "        for dest, time2 in cities[node]:\n",
    "            if time1+time2 <= maxTime:\n",
    "                if ( best[dest]<0 or best[dest]>costSoFar+passingFees[dest] ): # check not needed; just for efficiency\n",
    "                    heappush(heap, (time1+time2, costSoFar+passingFees[dest], dest))"
   ],
   "outputs": [],
   "metadata": {}
  },
  {
   "cell_type": "code",
   "execution_count": 6,
   "source": [
    "best[n-1]"
   ],
   "outputs": [
    {
     "output_type": "execute_result",
     "data": {
      "text/plain": [
       "11"
      ]
     },
     "metadata": {},
     "execution_count": 6
    }
   ],
   "metadata": {}
  }
 ],
 "metadata": {
  "orig_nbformat": 4,
  "language_info": {
   "name": "python",
   "version": "3.8.2",
   "mimetype": "text/x-python",
   "codemirror_mode": {
    "name": "ipython",
    "version": 3
   },
   "pygments_lexer": "ipython3",
   "nbconvert_exporter": "python",
   "file_extension": ".py"
  },
  "kernelspec": {
   "name": "python3",
   "display_name": "Python 3.8.2 64-bit"
  },
  "interpreter": {
   "hash": "31f2aee4e71d21fbe5cf8b01ff0e069b9275f58929596ceb00d14d90e3e16cd6"
  }
 },
 "nbformat": 4,
 "nbformat_minor": 2
}