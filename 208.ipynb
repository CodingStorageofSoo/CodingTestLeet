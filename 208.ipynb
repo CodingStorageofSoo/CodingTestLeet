{
 "cells": [
  {
   "cell_type": "code",
   "execution_count": 2,
   "source": [
    "from collections import defaultdict \n",
    "\n",
    "class TrieNode (object):\n",
    "    def __init__(self) -> None:\n",
    "        self.children = defaultdict(TrieNode)\n",
    "        self.isWord = False"
   ],
   "outputs": [],
   "metadata": {}
  },
  {
   "cell_type": "code",
   "execution_count": null,
   "source": [
    "\n",
    "        \n",
    "class Trie (object):\n",
    "    def __init__(self) -> None:\n",
    "        self.root = TrieNode()\n",
    "    \n",
    "    def insert (self, word):\n",
    "        current = self.root\n",
    "        for char in word:\n",
    "            current = current.children[char] \n",
    "        current.isWord = True\n",
    "\n",
    "    def search (self, word):\n",
    "        current = self.root\n",
    "        for char in word:\n",
    "            if char not in current.children:\n",
    "                return False\n",
    "            current = current.children[char] \n",
    "        return current.isWord\n",
    "\n",
    "    def startsWith (self, prefix):\n",
    "        current = self.root\n",
    "        for char in prefix:\n",
    "            if char not in current.children:\n",
    "                return False\n",
    "            current = current.children[char]\n",
    "        return True\n",
    "\n",
    "\n"
   ],
   "outputs": [],
   "metadata": {}
  }
 ],
 "metadata": {
  "orig_nbformat": 4,
  "language_info": {
   "name": "python",
   "version": "3.8.2",
   "mimetype": "text/x-python",
   "codemirror_mode": {
    "name": "ipython",
    "version": 3
   },
   "pygments_lexer": "ipython3",
   "nbconvert_exporter": "python",
   "file_extension": ".py"
  },
  "kernelspec": {
   "name": "python3",
   "display_name": "Python 3.8.2 64-bit"
  },
  "interpreter": {
   "hash": "31f2aee4e71d21fbe5cf8b01ff0e069b9275f58929596ceb00d14d90e3e16cd6"
  }
 },
 "nbformat": 4,
 "nbformat_minor": 2
}