{
 "cells": [
  {
   "cell_type": "code",
   "execution_count": 29,
   "source": [
    "# https://leetcode.com/problems/redundant-connection-ii/discuss/872529/Python-straight-forward-DFS-with-clear-explanation\n",
    "\n",
    "edges = [[1,2],[2,3],[3,4],[4,1],[1,5]]"
   ],
   "outputs": [],
   "metadata": {}
  },
  {
   "cell_type": "code",
   "execution_count": 30,
   "source": [
    "from collections import defaultdict\n",
    "\n",
    "n = len(edges)\n",
    "child = defaultdict(list)\n",
    "parent = defaultdict(list)"
   ],
   "outputs": [],
   "metadata": {}
  },
  {
   "cell_type": "code",
   "execution_count": 31,
   "source": [
    "k = -1\n",
    "for p, c in edges:\n",
    "    child[p].append(c)\n",
    "    parent[c].append(p)\n",
    "    if len(parent[c]) == 2:\n",
    "        k = c\n",
    "        cand1 = parent[c][0]\n",
    "        cand2 = parent[c][1]"
   ],
   "outputs": [],
   "metadata": {}
  },
  {
   "cell_type": "code",
   "execution_count": 32,
   "source": [
    "parent"
   ],
   "outputs": [
    {
     "output_type": "execute_result",
     "data": {
      "text/plain": [
       "defaultdict(list, {2: [1], 3: [2], 4: [3], 1: [4], 5: [1]})"
      ]
     },
     "metadata": {},
     "execution_count": 32
    }
   ],
   "metadata": {}
  },
  {
   "cell_type": "code",
   "execution_count": 33,
   "source": [
    "def cycle (start, end):\n",
    "\n",
    "    if start == end :\n",
    "        return True\n",
    "    global seen\n",
    "    seen.add(start)\n",
    "    for node in child[start]:\n",
    "        if node not in seen :\n",
    "            if cycle (node, end):\n",
    "                return True \n",
    "    return False "
   ],
   "outputs": [],
   "metadata": {}
  },
  {
   "cell_type": "code",
   "execution_count": 34,
   "source": [
    "if k != -1:\n",
    "    seen = set()\n",
    "    if cycle (k, cand1):\n",
    "        print([cand1, k])\n",
    "    else :\n",
    "        print([cand2, k])    "
   ],
   "outputs": [],
   "metadata": {}
  },
  {
   "cell_type": "code",
   "execution_count": 35,
   "source": [
    "for i in range(n-1,-1,-1):\n",
    "    par, chi = edges[i]\n",
    "    seen = set()\n",
    "    if cycle (chi, par):\n",
    "        print([par, chi])"
   ],
   "outputs": [
    {
     "output_type": "stream",
     "name": "stdout",
     "text": [
      "[4, 1]\n",
      "[3, 4]\n",
      "[2, 3]\n",
      "[1, 2]\n"
     ]
    }
   ],
   "metadata": {}
  },
  {
   "cell_type": "code",
   "execution_count": 39,
   "source": [
    "parent = [i for i in range (n+1)]\n",
    "\n",
    "parent"
   ],
   "outputs": [
    {
     "output_type": "execute_result",
     "data": {
      "text/plain": [
       "[0, 1, 2, 3, 4, 5]"
      ]
     },
     "metadata": {},
     "execution_count": 39
    }
   ],
   "metadata": {}
  },
  {
   "cell_type": "code",
   "execution_count": 40,
   "source": [
    "parent1 = parent\n",
    "parent2 = parent"
   ],
   "outputs": [],
   "metadata": {}
  },
  {
   "cell_type": "code",
   "execution_count": 41,
   "source": [
    "parent[0]=1"
   ],
   "outputs": [],
   "metadata": {}
  },
  {
   "cell_type": "code",
   "execution_count": 42,
   "source": [
    "parent1"
   ],
   "outputs": [
    {
     "output_type": "execute_result",
     "data": {
      "text/plain": [
       "[1, 1, 2, 3, 4, 5]"
      ]
     },
     "metadata": {},
     "execution_count": 42
    }
   ],
   "metadata": {}
  },
  {
   "cell_type": "code",
   "execution_count": null,
   "source": [],
   "outputs": [],
   "metadata": {}
  }
 ],
 "metadata": {
  "orig_nbformat": 4,
  "language_info": {
   "name": "python",
   "version": "3.8.2",
   "mimetype": "text/x-python",
   "codemirror_mode": {
    "name": "ipython",
    "version": 3
   },
   "pygments_lexer": "ipython3",
   "nbconvert_exporter": "python",
   "file_extension": ".py"
  },
  "kernelspec": {
   "name": "python3",
   "display_name": "Python 3.8.2 64-bit"
  },
  "interpreter": {
   "hash": "31f2aee4e71d21fbe5cf8b01ff0e069b9275f58929596ceb00d14d90e3e16cd6"
  }
 },
 "nbformat": 4,
 "nbformat_minor": 2
}