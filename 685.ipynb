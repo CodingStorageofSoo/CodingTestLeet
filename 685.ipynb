{
 "cells": [
  {
   "cell_type": "code",
<<<<<<< HEAD
   "execution_count": 20,
   "metadata": {},
   "outputs": [],
=======
   "execution_count": 73,
>>>>>>> 5527a3e3295432ad37d74b652ed9ea776a8631e4
   "source": [
    "edges = [[2,1],[3,1],[4,2],[1,4]]\n",
    "n = len(edges)"
   ],
   "outputs": [],
   "metadata": {}
  },
  {
   "cell_type": "code",
<<<<<<< HEAD
   "execution_count": 21,
   "metadata": {},
   "outputs": [],
=======
   "execution_count": 74,
>>>>>>> 5527a3e3295432ad37d74b652ed9ea776a8631e4
   "source": [
    "graph = [[] for _ in range(n+1)]\n",
    "for edge in edges:\n",
    "    a, b = edge\n",
    "    graph[a].append(b)"
   ],
   "outputs": [],
   "metadata": {}
  },
  {
   "cell_type": "code",
<<<<<<< HEAD
   "execution_count": 22,
   "metadata": {},
   "outputs": [
    {
     "data": {
      "text/plain": [
       "[[], [4], [1], [1], [2]]"
      ]
     },
     "execution_count": 22,
     "metadata": {},
     "output_type": "execute_result"
    }
   ],
=======
   "execution_count": 75,
>>>>>>> 5527a3e3295432ad37d74b652ed9ea776a8631e4
   "source": [
    "graph"
   ],
   "outputs": [
    {
     "output_type": "execute_result",
     "data": {
      "text/plain": [
       "[[], [4], [1], [1], [2]]"
      ]
     },
     "metadata": {},
     "execution_count": 75
    }
   ],
   "metadata": {}
  },
  {
   "cell_type": "code",
<<<<<<< HEAD
   "execution_count": 23,
   "metadata": {},
   "outputs": [
    {
     "data": {
      "text/plain": [
       "[0, 1, 2, 3, 4]"
      ]
     },
     "execution_count": 23,
     "metadata": {},
     "output_type": "execute_result"
    }
   ],
=======
   "execution_count": 76,
>>>>>>> 5527a3e3295432ad37d74b652ed9ea776a8631e4
   "source": [
    "parent = [i for i in range(n+1)]\n",
    "parent"
   ],
   "outputs": [
    {
     "output_type": "execute_result",
     "data": {
      "text/plain": [
       "[0, 1, 2, 3, 4]"
      ]
     },
     "metadata": {},
     "execution_count": 76
    }
   ],
   "metadata": {}
  },
  {
   "cell_type": "code",
   "execution_count": 77,
   "source": [
    "def find_parent (parent, i):\n",
    "    if parent[i] != i :\n",
    "        parent[i] = find_parent(parent, parent[i])\n",
    "    return parent[i]"
   ],
   "outputs": [],
   "metadata": {}
  },
  {
   "cell_type": "code",
<<<<<<< HEAD
   "execution_count": 7,
   "metadata": {},
   "outputs": [],
=======
   "execution_count": 78,
>>>>>>> 5527a3e3295432ad37d74b652ed9ea776a8631e4
   "source": [
    "def union_parent (parent, i, j):\n",
    "    a = find_parent(parent, i)\n",
    "    b = find_parent(parent, j)\n",
    "    if i != j :\n",
    "        parent[j]=a"
   ],
   "outputs": [],
   "metadata": {}
  },
  {
   "cell_type": "code",
<<<<<<< HEAD
   "execution_count": 8,
   "metadata": {},
   "outputs": [],
=======
   "execution_count": 79,
>>>>>>> 5527a3e3295432ad37d74b652ed9ea776a8631e4
   "source": [
    "ans = []\n",
    "for edge in edges:\n",
    "    print(edge)\n",
    "    print(parent)\n",
    "    a, b = edge\n",
    "    if find_parent (parent, a) != find_parent (parent, b):\n",
    "        union_parent (parent, a, b) \n",
    "        ans.append(edge)\n",
    "        print(parent)\n",
    "        print(ans)"
   ],
   "outputs": [
    {
     "output_type": "stream",
     "name": "stdout",
     "text": [
      "[2, 1]\n",
      "[0, 1, 2, 3, 4]\n",
      "[0, 2, 2, 3, 4]\n",
      "[[2, 1]]\n",
      "[3, 1]\n",
      "[0, 2, 2, 3, 4]\n",
      "[0, 3, 2, 3, 4]\n",
      "[[2, 1], [3, 1]]\n",
      "[4, 2]\n",
      "[0, 3, 2, 3, 4]\n",
      "[0, 3, 4, 3, 4]\n",
      "[[2, 1], [3, 1], [4, 2]]\n",
      "[1, 4]\n",
      "[0, 3, 4, 3, 4]\n",
      "[0, 3, 4, 3, 3]\n",
      "[[2, 1], [3, 1], [4, 2], [1, 4]]\n"
     ]
    }
   ],
   "metadata": {}
  },
  {
   "cell_type": "code",
<<<<<<< HEAD
   "execution_count": 9,
   "metadata": {},
   "outputs": [
    {
     "data": {
      "text/plain": [
       "[0, 1, 1, 1, 1, 1]"
      ]
     },
     "execution_count": 9,
     "metadata": {},
     "output_type": "execute_result"
    }
   ],
=======
   "execution_count": 65,
>>>>>>> 5527a3e3295432ad37d74b652ed9ea776a8631e4
   "source": [
    "parent"
   ],
   "outputs": [
    {
     "output_type": "execute_result",
     "data": {
      "text/plain": [
       "[0, 4, 4, 4, 4]"
      ]
     },
     "metadata": {},
     "execution_count": 65
    }
   ],
   "metadata": {}
  },
  {
   "cell_type": "code",
   "execution_count": 50,
   "source": [
    "ans"
   ],
   "outputs": [
    {
     "output_type": "execute_result",
     "data": {
      "text/plain": [
       "[[2, 1], [3, 1], [4, 2]]"
      ]
     },
     "metadata": {},
     "execution_count": 50
    }
   ],
   "metadata": {}
  },
  {
   "cell_type": "code",
   "execution_count": 10,
   "metadata": {},
   "outputs": [
    {
     "data": {
      "text/plain": [
       "[[1, 2], [2, 3], [3, 4], [1, 5]]"
      ]
     },
     "execution_count": 10,
     "metadata": {},
     "output_type": "execute_result"
    }
   ],
   "source": [
    "ans"
   ]
  },
  {
   "cell_type": "code",
   "execution_count": 12,
   "metadata": {},
   "outputs": [
    {
     "ename": "TypeError",
     "evalue": "unhashable type: 'list'",
     "output_type": "error",
     "traceback": [
      "\u001b[1;31m---------------------------------------------------------------------------\u001b[0m",
      "\u001b[1;31mTypeError\u001b[0m                                 Traceback (most recent call last)",
      "\u001b[1;32mc:\\Users\\chlqu\\OneDrive\\바탕 화면\\CodingTestLeet\\685.ipynb Cell 11'\u001b[0m in \u001b[0;36m<module>\u001b[1;34m\u001b[0m\n\u001b[1;32m----> <a href='vscode-notebook-cell:/c%3A/Users/chlqu/OneDrive/%EB%B0%94%ED%83%95%20%ED%99%94%EB%A9%B4/CodingTestLeet/685.ipynb#ch0000013?line=0'>1</a>\u001b[0m \u001b[39mlist\u001b[39m(\u001b[39mset\u001b[39;49m(edges) \u001b[39m-\u001b[39m \u001b[39mset\u001b[39m(ans))\n",
      "\u001b[1;31mTypeError\u001b[0m: unhashable type: 'list'"
     ]
    }
   ],
   "source": [
    "list(set(edges) - set(ans))"
   ]
  },
  {
   "cell_type": "code",
   "execution_count": 18,
   "metadata": {},
   "outputs": [],
   "source": [
    "ans2 = []\n",
    "for edge in edges:\n",
    "    if edge not in ans :\n",
    "        ans2.append(edge)"
   ]
  },
  {
   "cell_type": "code",
   "execution_count": 19,
   "metadata": {},
   "outputs": [
    {
     "data": {
      "text/plain": [
       "[[4, 1]]"
      ]
     },
     "execution_count": 19,
     "metadata": {},
     "output_type": "execute_result"
    }
   ],
   "source": [
    "ans2"
   ]
  },
  {
   "cell_type": "code",
   "execution_count": null,
   "source": [],
   "outputs": [],
   "metadata": {}
  }
 ],
 "metadata": {
  "interpreter": {
   "hash": "31f2aee4e71d21fbe5cf8b01ff0e069b9275f58929596ceb00d14d90e3e16cd6"
  },
  "kernelspec": {
   "name": "python3",
   "display_name": "Python 3.8.2 64-bit"
  },
  "language_info": {
   "codemirror_mode": {
    "name": "ipython",
    "version": 3
   },
   "file_extension": ".py",
   "mimetype": "text/x-python",
   "name": "python",
   "nbconvert_exporter": "python",
   "pygments_lexer": "ipython3",
   "version": "3.10.0"
  },
  "orig_nbformat": 4
 },
 "nbformat": 4,
 "nbformat_minor": 2
}