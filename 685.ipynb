{
 "cells": [
  {
   "cell_type": "code",
   "execution_count": 2,
   "source": [
    "edges = [[1,2],[2,3],[3,4],[4,1],[1,5]]\n",
    "n = len(edges)"
   ],
   "outputs": [],
   "metadata": {}
  },
  {
   "cell_type": "code",
   "execution_count": 5,
   "source": [
    "graph = [[] for _ in range(n+1)]\n",
    "for edge in edges:\n",
    "    a, b = edge\n",
    "    graph[a].append(b)"
   ],
   "outputs": [],
   "metadata": {}
  },
  {
   "cell_type": "code",
   "execution_count": 6,
   "source": [
    "graph"
   ],
   "outputs": [
    {
     "output_type": "execute_result",
     "data": {
      "text/plain": [
       "[[], [2, 5], [3], [4], [1], []]"
      ]
     },
     "metadata": {},
     "execution_count": 6
    }
   ],
   "metadata": {}
  },
  {
   "cell_type": "code",
   "execution_count": 7,
   "source": [
    "parent = [i for i in range(n+1)]\n",
    "parent"
   ],
   "outputs": [
    {
     "output_type": "execute_result",
     "data": {
      "text/plain": [
       "[0, 1, 2, 3, 4, 5]"
      ]
     },
     "metadata": {},
     "execution_count": 7
    }
   ],
   "metadata": {}
  },
  {
   "cell_type": "code",
   "execution_count": 8,
   "source": [
    "def find_parent (parent, i):\n",
    "    if parent[i] != i :\n",
    "        parent[i] = find_parent(parent, parent[i])\n",
    "    return parent[i]"
   ],
   "outputs": [],
   "metadata": {}
  },
  {
   "cell_type": "code",
   "execution_count": 9,
   "source": [
    "def union_parent (parent, i, j):\n",
    "    i = find_parent(parent, i)\n",
    "    j = find_parent(parent, j)\n",
    "    if i < j :\n",
    "        parent[j] = parent[i]\n",
    "    else :\n",
    "        parent[i] = parent[j]"
   ],
   "outputs": [],
   "metadata": {}
  },
  {
   "cell_type": "code",
   "execution_count": null,
   "source": [
    "for edge in edges:\n",
    "    a, b = edge\n",
    "    union_parent (parent, a, b)\n"
   ],
   "outputs": [],
   "metadata": {}
  }
 ],
 "metadata": {
  "orig_nbformat": 4,
  "language_info": {
   "name": "python",
   "version": "3.8.2",
   "mimetype": "text/x-python",
   "codemirror_mode": {
    "name": "ipython",
    "version": 3
   },
   "pygments_lexer": "ipython3",
   "nbconvert_exporter": "python",
   "file_extension": ".py"
  },
  "kernelspec": {
   "name": "python3",
   "display_name": "Python 3.8.2 64-bit"
  },
  "interpreter": {
   "hash": "31f2aee4e71d21fbe5cf8b01ff0e069b9275f58929596ceb00d14d90e3e16cd6"
  }
 },
 "nbformat": 4,
 "nbformat_minor": 2
}