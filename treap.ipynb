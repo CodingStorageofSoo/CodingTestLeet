{
 "cells": [
  {
   "cell_type": "code",
   "execution_count": 60,
   "source": [
    "from random import randrange\n",
    "\n",
    "class TreapNode:\n",
    "    def __init__(self, rating, food=None, priority=100000000, left=None, right=None):\n",
    "        self.rating = rating\n",
    "        self.food = food\n",
    "        self.priority = randrange(priority)\n",
    "        self.left = left\n",
    "        self.right = right"
   ],
   "outputs": [],
   "metadata": {}
  },
  {
   "cell_type": "code",
   "execution_count": 61,
   "source": [
    "def rotateLeft(root):\n",
    " \n",
    "    R = root.right\n",
    "    X = root.right.left\n",
    " \n",
    "    R.left = root\n",
    "    root.right = X\n",
    " \n",
    "    return R \n",
    " \n",
    "def rotateRight(root):\n",
    " \n",
    "    L = root.left\n",
    "    Y = root.left.right\n",
    " \n",
    "    L.right = root\n",
    "    root.left = Y\n",
    " \n",
    "    return L\n",
    " \n",
    "def insertNode(root, rating, food):\n",
    " \n",
    "    if root is None:\n",
    "        return TreapNode(rating, food)\n",
    " \n",
    "    if rating < root.rating:\n",
    "        root.left = insertNode(root.left, rating, food)\n",
    " \n",
    "        if root.left and root.left.priority > root.priority:\n",
    "            root = rotateRight(root)\n",
    "    else:\n",
    "        root.right = insertNode(root.right, rating, food)\n",
    " \n",
    "        if root.right and root.right.priority > root.priority:\n",
    "            root = rotateLeft(root)\n",
    " \n",
    "    return root"
   ],
   "outputs": [],
   "metadata": {}
  },
  {
   "cell_type": "code",
   "execution_count": 62,
   "source": [
    "keys = [[5, 'a'], [2,'b'], [1,'c'], [4,'d'], [9,'e'], [8,'f'], [10,'g']]\n",
    "\n",
    "root = None\n",
    "for key, food in keys:\n",
    "    root = insertNode(root, key, food)"
   ],
   "outputs": [],
   "metadata": {}
  },
  {
   "cell_type": "code",
   "execution_count": 63,
   "source": [
    "def printTreap(root):\n",
    "\n",
    "    if root.left:\n",
    "        print(root.left.rating, root.left.food)\n",
    "    if root.rating:\n",
    "        print(root.rating, root.food)\n",
    "    if root.right:\n",
    "        print(root.right.rating, root.right.food)\n",
    "    "
   ],
   "outputs": [],
   "metadata": {}
  },
  {
   "cell_type": "code",
   "execution_count": 64,
   "source": [
    "printTreap(root)\n",
    "\n"
   ],
   "outputs": [
    {
     "output_type": "stream",
     "name": "stdout",
     "text": [
      "4 d\n",
      "8 f\n",
      "9 e\n"
     ]
    }
   ],
   "metadata": {}
  },
  {
   "cell_type": "code",
   "execution_count": null,
   "source": [
    "\n",
    "# Recursive function to search for a key in a given treap\n",
    "def searchNode(root, key):\n",
    " \n",
    "    # if the key is not present in the tree\n",
    "    if root is None:\n",
    "        return False\n",
    " \n",
    "    # if the key is found\n",
    "    if root.data == key:\n",
    "        return True\n",
    " \n",
    "    # if the key is less than the root node, search in the left subtree\n",
    "    if key < root.data:\n",
    "        return searchNode(root.left, key)\n",
    " \n",
    "    # otherwise, search in the right subtree\n",
    "    return searchNode(root.right, key)\n",
    " \n",
    " \n",
    "# Recursive function to delete a key from a given treap\n",
    "def deleteNode(root, key):\n",
    " \n",
    "    # base case: the key is not found in the tree\n",
    "    if root is None:\n",
    "        return None\n",
    " \n",
    "    # if the key is less than the root node, recur for the left subtree\n",
    "    if key < root.data:\n",
    "        root.left = deleteNode(root.left, key)\n",
    " \n",
    "    # if the key is more than the root node, recur for the right subtree\n",
    "    elif key > root.data:\n",
    "        root.right = deleteNode(root.right, key)\n",
    " \n",
    "    # if the key is found\n",
    "    else:\n",
    " \n",
    "        # Case 1: node to be deleted has no children (it is a leaf node)\n",
    "        if root.left is None and root.right is None:\n",
    "            # deallocate the memory and update root to None\n",
    "            root = None\n",
    " \n",
    "        # Case 2: node to be deleted has two children\n",
    "        elif root.left and root.right:\n",
    "            # if the left child has less priority than the right child\n",
    "            if root.left.priority < root.right.priority:\n",
    "                # call `rotateLeft()` on the root\n",
    "                root = rotateLeft(root)\n",
    " \n",
    "                # recursively delete the left child\n",
    "                root.left = deleteNode(root.left, key)\n",
    "            else:\n",
    "                # call `rotateRight()` on the root\n",
    "                root = rotateRight(root)\n",
    " \n",
    "                # recursively delete the right child\n",
    "                root.right = deleteNode(root.right, key)\n",
    " \n",
    "        # Case 3: node to be deleted has only one child\n",
    "        else:\n",
    "            # choose a child node\n",
    "            child = root.left if (root.left) else root.right\n",
    "            root = child\n",
    " \n",
    "    return root"
   ],
   "outputs": [],
   "metadata": {}
  }
 ],
 "metadata": {
  "orig_nbformat": 4,
  "language_info": {
   "name": "python",
   "version": "3.8.2",
   "mimetype": "text/x-python",
   "codemirror_mode": {
    "name": "ipython",
    "version": 3
   },
   "pygments_lexer": "ipython3",
   "nbconvert_exporter": "python",
   "file_extension": ".py"
  },
  "kernelspec": {
   "name": "python3",
   "display_name": "Python 3.8.2 64-bit"
  },
  "interpreter": {
   "hash": "31f2aee4e71d21fbe5cf8b01ff0e069b9275f58929596ceb00d14d90e3e16cd6"
  }
 },
 "nbformat": 4,
 "nbformat_minor": 2
}