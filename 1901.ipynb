{
 "cells": [
  {
   "cell_type": "code",
   "execution_count": 54,
   "source": [
    "mat = [[48,36,35,17,48],[38,28,38,26,24],[15,9,33,32,6],[49,4,8,10,41]]"
   ],
   "outputs": [],
   "metadata": {}
  },
  {
   "cell_type": "code",
   "execution_count": 55,
   "source": [
    "def search (mat, startRow, endRow):\n",
    "            \n",
    "    midRow = (startRow + endRow) // 2\n",
    "    print(startRow, midRow, endRow)\n",
    "    \n",
    "    if startRow == endRow:\n",
    "        idx = mat[startRow].index(max(mat[startRow]))\n",
    "        print(idx)\n",
    "        print(startRow)\n",
    "        return [startRow, idx]\n",
    "\n",
    "    print(max(mat[midRow])) \n",
    "    print(max(mat[midRow +1]))\n",
    "\n",
    "    if max(mat[midRow]) > max(mat[midRow +1]):\n",
    "        return search (mat, startRow, midRow)\n",
    "    \n",
    "    else :\n",
    "        return search (mat, midRow +1, endRow)"
   ],
   "outputs": [],
   "metadata": {}
  },
  {
   "cell_type": "code",
   "execution_count": 56,
   "source": [
    "search(mat, 0, len(mat)-1)"
   ],
   "outputs": [
    {
     "output_type": "stream",
     "name": "stdout",
     "text": [
      "0 1 3\n",
      "38\n",
      "33\n",
      "0 0 1\n",
      "48\n",
      "38\n",
      "0 0 0\n",
      "0\n",
      "0\n"
     ]
    },
    {
     "output_type": "execute_result",
     "data": {
      "text/plain": [
       "[0, 0]"
      ]
     },
     "metadata": {},
     "execution_count": 56
    }
   ],
   "metadata": {}
  },
  {
   "cell_type": "code",
   "execution_count": 13,
   "source": [
    "class Solution:\n",
    "    def findPeakGrid(self, mat: List[List[int]]) -> List[int]:\n",
    "        \n",
    "        def search (mat, startRow, endRow):\n",
    "\n",
    "            midRow = (startRow + endRow) // 2\n",
    "            print(startRow, midRow, endRow)\n",
    "\n",
    "            if startRow == endRow:\n",
    "                idx = mat[startRow].index(max(mat[startRow]))\n",
    "                print(idx)\n",
    "                print(startRow)\n",
    "                return [startRow, idx]\n",
    "\n",
    "            print(max(mat[midRow])) \n",
    "            print(max(mat[midRow +1]))\n",
    "\n",
    "            if max(mat[midRow]) > max(mat[midRow +1]):\n",
    "                return search (mat, startRow, midRow)\n",
    "\n",
    "            else :\n",
    "                return search (mat, midRow +1, endRow)\n",
    "        \n",
    "          \n",
    "        return search (mat, 0, len(mat)-1)\n",
    "      "
   ],
   "outputs": [],
   "metadata": {}
  }
 ],
 "metadata": {
  "orig_nbformat": 4,
  "language_info": {
   "name": "python",
   "version": "3.8.2",
   "mimetype": "text/x-python",
   "codemirror_mode": {
    "name": "ipython",
    "version": 3
   },
   "pygments_lexer": "ipython3",
   "nbconvert_exporter": "python",
   "file_extension": ".py"
  },
  "kernelspec": {
   "name": "python3",
   "display_name": "Python 3.8.2 64-bit"
  },
  "interpreter": {
   "hash": "31f2aee4e71d21fbe5cf8b01ff0e069b9275f58929596ceb00d14d90e3e16cd6"
  }
 },
 "nbformat": 4,
 "nbformat_minor": 2
}