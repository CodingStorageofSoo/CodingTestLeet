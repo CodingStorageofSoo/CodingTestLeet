{
 "cells": [
  {
   "cell_type": "code",
   "execution_count": 1,
   "source": [
    "values = [8,1,5,2,6]"
   ],
   "outputs": [],
   "metadata": {}
  },
  {
   "cell_type": "code",
   "execution_count": 2,
   "source": [
    "cur = res = 0\n",
    "\n",
    "for a in values:\n",
    "    print(a)\n",
    "    print(res)\n",
    "    res = max(res, cur+a)\n",
    "    print(res)\n",
    "    print(cur)\n",
    "    cur = max(cur, a) -1\n",
    "    print(cur)"
   ],
   "outputs": [
    {
     "output_type": "stream",
     "name": "stdout",
     "text": [
      "8\n",
      "0\n",
      "8\n",
      "0\n",
      "7\n",
      "1\n",
      "8\n",
      "8\n",
      "7\n",
      "6\n",
      "5\n",
      "8\n",
      "11\n",
      "6\n",
      "5\n",
      "2\n",
      "11\n",
      "11\n",
      "5\n",
      "4\n",
      "6\n",
      "11\n",
      "11\n",
      "4\n",
      "5\n"
     ]
    }
   ],
   "metadata": {}
  },
  {
   "cell_type": "code",
   "execution_count": null,
   "source": [],
   "outputs": [],
   "metadata": {}
  }
 ],
 "metadata": {
  "orig_nbformat": 4,
  "language_info": {
   "name": "python",
   "version": "3.8.2",
   "mimetype": "text/x-python",
   "codemirror_mode": {
    "name": "ipython",
    "version": 3
   },
   "pygments_lexer": "ipython3",
   "nbconvert_exporter": "python",
   "file_extension": ".py"
  },
  "kernelspec": {
   "name": "python3",
   "display_name": "Python 3.8.2 64-bit"
  },
  "interpreter": {
   "hash": "31f2aee4e71d21fbe5cf8b01ff0e069b9275f58929596ceb00d14d90e3e16cd6"
  }
 },
 "nbformat": 4,
 "nbformat_minor": 2
}