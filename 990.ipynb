{
 "cells": [
  {
   "cell_type": "code",
   "execution_count": 33,
   "source": [
    "def find (parent, x):\n",
    "    if parent[x] != x:\n",
    "        parent[x] = find (parent, parent[x])\n",
    "    return parent[x]"
   ],
   "outputs": [],
   "metadata": {}
  },
  {
   "cell_type": "code",
   "execution_count": 35,
   "source": [
    "def union (parent, x, y):\n",
    "    a = find(parent, x)\n",
    "    b = find(parent, y)\n",
    "    if a > b :\n",
    "        parent[a] = b\n",
    "    elif a < b:\n",
    "        parent[b] = a\n",
    "    else :\n",
    "        return False \n",
    "    return True\n",
    "    "
   ],
   "outputs": [],
   "metadata": {}
  },
  {
   "cell_type": "code",
   "execution_count": 36,
   "source": [
    "equations = [\"a==b\", \"b!=a\"]"
   ],
   "outputs": [],
   "metadata": {}
  },
  {
   "cell_type": "code",
   "execution_count": 37,
   "source": [
    "letter_list = []\n",
    "equal = []\n",
    "not_equal = []\n",
    "\n",
    "for equation in equations:\n",
    "    letter_list.append(equation[0])\n",
    "    letter_list.append(equation[3])\n",
    "    if equation[1:3] == '==':\n",
    "        equal.append(equation)\n",
    "    else:\n",
    "        not_equal.append(equation)\n",
    "\n",
    "letter_set = set(letter_list)\n",
    "\n",
    "letters = {}\n",
    "i = 0\n",
    "for letter in letter_set: \n",
    "    letters [letter] = i\n",
    "    i += 1"
   ],
   "outputs": [],
   "metadata": {}
  },
  {
   "cell_type": "code",
   "execution_count": 38,
   "source": [
    "print(letter_set)\n",
    "print(equal)\n",
    "print(not_equal)\n",
    "print(letters)"
   ],
   "outputs": [
    {
     "output_type": "stream",
     "name": "stdout",
     "text": [
      "{'a', 'b'}\n",
      "['a==b']\n",
      "['b!=a']\n",
      "{'a': 0, 'b': 1}\n"
     ]
    }
   ],
   "metadata": {}
  },
  {
   "cell_type": "code",
   "execution_count": 39,
   "source": [
    "parent = [i for i in range(len(letter_set))]\n",
    "parent"
   ],
   "outputs": [
    {
     "output_type": "execute_result",
     "data": {
      "text/plain": [
       "[0, 1]"
      ]
     },
     "metadata": {},
     "execution_count": 39
    }
   ],
   "metadata": {}
  },
  {
   "cell_type": "code",
   "execution_count": 41,
   "source": [
    "for a, b, c, d in equal:\n",
    "    x = letters[a]\n",
    "    y = letters[d]\n",
    "    union(parent, x, y)"
   ],
   "outputs": [],
   "metadata": {}
  },
  {
   "cell_type": "code",
   "execution_count": null,
   "source": [
    "for a, b, c, d in not_equal:\n",
    "    \n",
    "    x = letters[a]\n",
    "    y = letters[d]\n",
    "    if find (parent, x) == find (parent, y) :\n",
    "        return False\n",
    "\n",
    "return True"
   ],
   "outputs": [],
   "metadata": {}
  }
 ],
 "metadata": {
  "orig_nbformat": 4,
  "language_info": {
   "name": "python",
   "version": "3.8.2",
   "mimetype": "text/x-python",
   "codemirror_mode": {
    "name": "ipython",
    "version": 3
   },
   "pygments_lexer": "ipython3",
   "nbconvert_exporter": "python",
   "file_extension": ".py"
  },
  "kernelspec": {
   "name": "python3",
   "display_name": "Python 3.8.2 64-bit"
  },
  "interpreter": {
   "hash": "31f2aee4e71d21fbe5cf8b01ff0e069b9275f58929596ceb00d14d90e3e16cd6"
  }
 },
 "nbformat": 4,
 "nbformat_minor": 2
}