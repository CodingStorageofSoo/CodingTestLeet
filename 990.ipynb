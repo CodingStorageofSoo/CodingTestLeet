{
 "cells": [
  {
   "cell_type": "code",
   "execution_count": 4,
   "source": [
    "equations = [\"b!=f\",\"c!=e\",\"f==f\",\"d==f\",\"b==f\",\"a==f\"]"
   ],
   "outputs": [],
   "metadata": {}
  },
  {
   "cell_type": "code",
   "execution_count": 5,
   "source": [
    "def find_parent (parent, x):\n",
    "    if parent[x] != x :\n",
    "        parent[x] = find_parent (parent, parent[x])\n",
    "    return parent[x]"
   ],
   "outputs": [],
   "metadata": {}
  },
  {
   "cell_type": "code",
   "execution_count": 6,
   "source": [
    "def union (parent, x, y):\n",
    "\n",
    "    a = find_parent(parent, x)\n",
    "    b = find_parent(parent, y)\n",
    "\n",
    "    if a > b :\n",
    "        parent[a] = b\n",
    "    elif a < b :\n",
    "        parent[b] = a\n",
    "    else: \n",
    "        return False"
   ],
   "outputs": [],
   "metadata": {}
  },
  {
   "cell_type": "code",
   "execution_count": 7,
   "source": [
    "letters=[]\n",
    "for equation in equations: \n",
    "    letters.append(equation[0])\n",
    "    letters.append(equation[3])\n",
    "letters = set(letters)"
   ],
   "outputs": [],
   "metadata": {}
  },
  {
   "cell_type": "code",
   "execution_count": 8,
   "source": [
    "parent = dict()\n",
    "for letter in letters:\n",
    "    parent[letter] = letter"
   ],
   "outputs": [],
   "metadata": {}
  },
  {
   "cell_type": "code",
   "execution_count": 9,
   "source": [
    "letters"
   ],
   "outputs": [
    {
     "output_type": "execute_result",
     "data": {
      "text/plain": [
       "{'a', 'b', 'c', 'd', 'e', 'f'}"
      ]
     },
     "metadata": {},
     "execution_count": 9
    }
   ],
   "metadata": {}
  },
  {
   "cell_type": "code",
   "execution_count": 10,
   "source": [
    "parent"
   ],
   "outputs": [
    {
     "output_type": "execute_result",
     "data": {
      "text/plain": [
       "{'c': 'c', 'd': 'd', 'e': 'e', 'f': 'f', 'a': 'a', 'b': 'b'}"
      ]
     },
     "metadata": {},
     "execution_count": 10
    }
   ],
   "metadata": {}
  },
  {
   "cell_type": "code",
   "execution_count": 11,
   "source": [
    "for equation in equations:\n",
    "    if equation[1:3] == '==':\n",
    "        print(equation[0], equation[3])\n",
    "        union (parent, equation[0], equation[3])"
   ],
   "outputs": [
    {
     "output_type": "stream",
     "name": "stdout",
     "text": [
      "f f\n",
      "d f\n",
      "b f\n",
      "a f\n"
     ]
    }
   ],
   "metadata": {}
  },
  {
   "cell_type": "code",
   "execution_count": 12,
   "source": [
    "parent"
   ],
   "outputs": [
    {
     "output_type": "execute_result",
     "data": {
      "text/plain": [
       "{'c': 'c', 'd': 'b', 'e': 'e', 'f': 'b', 'a': 'a', 'b': 'a'}"
      ]
     },
     "metadata": {},
     "execution_count": 12
    }
   ],
   "metadata": {}
  },
  {
   "cell_type": "code",
   "execution_count": 13,
   "source": [
    "for equation in equations:\n",
    "    if equation[1:3] == '!=':\n",
    "        if find_parent(parent, equation[0]) == find_parent(parent, equation[3]) :\n",
    "            print('false')\n",
    "print('true')"
   ],
   "outputs": [
    {
     "output_type": "stream",
     "name": "stdout",
     "text": [
      "false\n",
      "true\n"
     ]
    }
   ],
   "metadata": {}
  }
 ],
 "metadata": {
  "orig_nbformat": 4,
  "language_info": {
   "name": "python",
   "version": "3.8.2",
   "mimetype": "text/x-python",
   "codemirror_mode": {
    "name": "ipython",
    "version": 3
   },
   "pygments_lexer": "ipython3",
   "nbconvert_exporter": "python",
   "file_extension": ".py"
  },
  "kernelspec": {
   "name": "python3",
   "display_name": "Python 3.8.2 64-bit"
  },
  "interpreter": {
   "hash": "31f2aee4e71d21fbe5cf8b01ff0e069b9275f58929596ceb00d14d90e3e16cd6"
  }
 },
 "nbformat": 4,
 "nbformat_minor": 2
}