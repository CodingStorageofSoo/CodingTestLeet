{
 "cells": [
  {
   "cell_type": "code",
   "execution_count": 6,
   "source": [
    "from collections import defaultdict, deque\n",
    "\n",
    "class TrieNode ():\n",
    "    def __init__(self):\n",
    "        self.children = {}\n",
    "        self.isWord = False \n",
    "        self.finalWord = []\n",
    "\n",
    "class Solution:\n",
    "    \n",
    "    def __init__ (self):\n",
    "        self.root = TrieNode()\n",
    "    \n",
    "    def insert (self, word):\n",
    "        \n",
    "        current = self.root\n",
    "        for char in word :\n",
    "            if char not in current.children:\n",
    "                current.children[char]=TrieNode()\n",
    "            current = current.children[char]\n",
    "        current.isWord = True \n",
    "        current.finalWord = word\n",
    "                \n",
    "    def longestWord(self, words):\n",
    "        \n",
    "        for word in words:\n",
    "            self.insert(word)\n",
    "        \n",
    "        return self.root.children['g'].finalWord\n",
    "\n",
    "ans = Solution()\n",
    "\n",
    "ans.longestWord(words = [\"gcpucfv\",\"gcpucfvk\",\"g\",\"gc\",\"gcp\",\"gcpucf\",\"gcpu\"])\n"
   ],
   "outputs": [
    {
     "output_type": "execute_result",
     "data": {
      "text/plain": [
       "'g'"
      ]
     },
     "metadata": {},
     "execution_count": 6
    }
   ],
   "metadata": {}
  },
  {
   "cell_type": "code",
   "execution_count": 7,
   "source": [
    "from collections import defaultdict, deque\n",
    "\n",
    "class TrieNode ():\n",
    "    def __init__(self):\n",
    "        self.children = {}\n",
    "        self.isWord = False \n",
    "        self.finalWord = []\n",
    "\n",
    "class Solution:\n",
    "    \n",
    "    def __init__ (self):\n",
    "        self.root = TrieNode()\n",
    "    \n",
    "    def insert (self, word):\n",
    "        \n",
    "        current = self.root\n",
    "        wordList = []\n",
    "        for char in word :\n",
    "            if char not in current.children:\n",
    "                current.children[char]=TrieNode()\n",
    "            current = current.children[char]\n",
    "            wordList.append(char)\n",
    "            current.finalWord = wordList\n",
    "        current.isWord = True \n",
    "                \n",
    "    def longestWord(self, words):\n",
    "        \n",
    "        for word in words:\n",
    "            self.insert(word)\n",
    "        \n",
    "        return self.root.children['g'].finalWord\n",
    "\n",
    "ans = Solution()\n",
    "\n",
    "ans.longestWord(words = [\"gcpucfv\",\"gcpucfvk\",\"g\",\"gc\",\"gcp\",\"gcpucf\",\"gcpu\"])\n"
   ],
   "outputs": [
    {
     "output_type": "execute_result",
     "data": {
      "text/plain": [
       "['g', 'c', 'p', 'u']"
      ]
     },
     "metadata": {},
     "execution_count": 7
    }
   ],
   "metadata": {}
  },
  {
   "cell_type": "code",
   "execution_count": null,
   "source": [],
   "outputs": [],
   "metadata": {}
  }
 ],
 "metadata": {
  "orig_nbformat": 4,
  "language_info": {
   "name": "python",
   "version": "3.8.2",
   "mimetype": "text/x-python",
   "codemirror_mode": {
    "name": "ipython",
    "version": 3
   },
   "pygments_lexer": "ipython3",
   "nbconvert_exporter": "python",
   "file_extension": ".py"
  },
  "kernelspec": {
   "name": "python3",
   "display_name": "Python 3.8.2 64-bit"
  },
  "interpreter": {
   "hash": "31f2aee4e71d21fbe5cf8b01ff0e069b9275f58929596ceb00d14d90e3e16cd6"
  }
 },
 "nbformat": 4,
 "nbformat_minor": 2
}