{
 "cells": [
  {
   "cell_type": "code",
   "execution_count": 9,
   "source": [
    "nums = [[7,34,45,10,12,27,13],[27,21,45,10,12,13]]"
   ],
   "outputs": [],
   "metadata": {}
  },
  {
   "cell_type": "code",
   "execution_count": 13,
   "source": [
    "for i in range(len(nums)):\n",
    "    new = nums[i]\n",
    "    for j in range(len(nums)):\n",
    "        new = list(set(new) & set(nums[j])) \n",
    "    if len(new) >= 1 :\n",
    "        print(sorted(new))\n",
    "    else:\n",
    "        print([])"
   ],
   "outputs": [
    {
     "output_type": "stream",
     "name": "stdout",
     "text": [
      "[10, 12, 13, 27, 45]\n",
      "[10, 12, 13, 27, 45]\n"
     ]
    }
   ],
   "metadata": {}
  },
  {
   "cell_type": "code",
   "execution_count": null,
   "source": [
    "class Solution:\n",
    "    def countLatticePoints(self, circles: List[List[int]]) -> int:\n",
    "        \n",
    "        def coordinate(circle) : \n",
    "            \n",
    "            x, y, r = circle\n",
    "            \n",
    "            coordi = []\n",
    "            for num in range(-r, r+1):\n",
    "                cor = [x, y+num]\n",
    "                x_spec = int(sqrt(r^2 - (y+num)^2))\n",
    "                for num2 in range(-x_spec, x_spec+1):\n",
    "                    coordi.append([x+num2, y+num])\n",
    "                \n",
    "            return coordi\n",
    "        \n",
    "        coordinate_list = []\n",
    "        for circle in circles :\n",
    "            coordinate_list = list(set(coordinate(circle)) | set(coordinate_list))\n",
    "            \n",
    "        return coordinate_list\n",
    "            \n",
    "        \n",
    "            \n",
    "            \n",
    "            \n",
    "        "
   ],
   "outputs": [],
   "metadata": {}
  },
  {
   "cell_type": "code",
   "execution_count": 26,
   "source": [
    "def coordinate(circle) : \n",
    "            \n",
    "    x, y, r = circle\n",
    "    \n",
    "    coordi = []\n",
    "    for num in range(-r, r+1):\n",
    "        cor = [x, y+num]\n",
    "        x_spec = int((r**2 - (num)**2)**(1/2))\n",
    "        for num2 in range(-x_spec, x_spec+1):\n",
    "            coordi.append([x+num2, y+num])\n",
    "        \n",
    "    return coordi"
   ],
   "outputs": [],
   "metadata": {}
  },
  {
   "cell_type": "code",
   "execution_count": 27,
   "source": [
    "coordinate ([2,2,2])"
   ],
   "outputs": [
    {
     "output_type": "execute_result",
     "data": {
      "text/plain": [
       "[[2, 0],\n",
       " [1, 1],\n",
       " [2, 1],\n",
       " [3, 1],\n",
       " [0, 2],\n",
       " [1, 2],\n",
       " [2, 2],\n",
       " [3, 2],\n",
       " [4, 2],\n",
       " [1, 3],\n",
       " [2, 3],\n",
       " [3, 3],\n",
       " [2, 4]]"
      ]
     },
     "metadata": {},
     "execution_count": 27
    }
   ],
   "metadata": {}
  },
  {
   "cell_type": "code",
   "execution_count": 25,
   "source": [
    "x, y, r = [2,2,2]\n",
    "    \n",
    "coordi = []\n",
    "for num in range(-r, r+1):\n",
    "    cor = [x, y+num]\n",
    "    print(r)\n",
    "    print(cor)\n",
    "    print(r**2) \n",
    "    print((num)**2)\n",
    "    x_spec = int((r**2 - (y+num)**2)**(1/2))\n",
    "    for num2 in range(-x_spec, x_spec+1):\n",
    "        coordi.append([x+num2, y+num])"
   ],
   "outputs": [
    {
     "output_type": "stream",
     "name": "stdout",
     "text": [
      "2\n",
      "[2, 0]\n",
      "4\n",
      "4\n",
      "2\n",
      "[2, 1]\n",
      "4\n",
      "1\n",
      "2\n",
      "[2, 2]\n",
      "4\n",
      "0\n",
      "2\n",
      "[2, 3]\n",
      "4\n",
      "1\n"
     ]
    },
    {
     "output_type": "error",
     "ename": "TypeError",
     "evalue": "can't convert complex to int",
     "traceback": [
      "\u001b[0;31m---------------------------------------------------------------------------\u001b[0m",
      "\u001b[0;31mTypeError\u001b[0m                                 Traceback (most recent call last)",
      "\u001b[0;32m/var/folders/xk/hrw3wy1n61lf4xdzyjbzjtj00000gn/T/ipykernel_6429/1296813578.py\u001b[0m in \u001b[0;36m<module>\u001b[0;34m\u001b[0m\n\u001b[1;32m      8\u001b[0m     \u001b[0mprint\u001b[0m\u001b[0;34m(\u001b[0m\u001b[0mr\u001b[0m\u001b[0;34m**\u001b[0m\u001b[0;36m2\u001b[0m\u001b[0;34m)\u001b[0m\u001b[0;34m\u001b[0m\u001b[0;34m\u001b[0m\u001b[0m\n\u001b[1;32m      9\u001b[0m     \u001b[0mprint\u001b[0m\u001b[0;34m(\u001b[0m\u001b[0;34m(\u001b[0m\u001b[0mnum\u001b[0m\u001b[0;34m)\u001b[0m\u001b[0;34m**\u001b[0m\u001b[0;36m2\u001b[0m\u001b[0;34m)\u001b[0m\u001b[0;34m\u001b[0m\u001b[0;34m\u001b[0m\u001b[0m\n\u001b[0;32m---> 10\u001b[0;31m     \u001b[0mx_spec\u001b[0m \u001b[0;34m=\u001b[0m \u001b[0mint\u001b[0m\u001b[0;34m(\u001b[0m\u001b[0;34m(\u001b[0m\u001b[0mr\u001b[0m\u001b[0;34m**\u001b[0m\u001b[0;36m2\u001b[0m \u001b[0;34m-\u001b[0m \u001b[0;34m(\u001b[0m\u001b[0my\u001b[0m\u001b[0;34m+\u001b[0m\u001b[0mnum\u001b[0m\u001b[0;34m)\u001b[0m\u001b[0;34m**\u001b[0m\u001b[0;36m2\u001b[0m\u001b[0;34m)\u001b[0m\u001b[0;34m**\u001b[0m\u001b[0;34m(\u001b[0m\u001b[0;36m1\u001b[0m\u001b[0;34m/\u001b[0m\u001b[0;36m2\u001b[0m\u001b[0;34m)\u001b[0m\u001b[0;34m)\u001b[0m\u001b[0;34m\u001b[0m\u001b[0;34m\u001b[0m\u001b[0m\n\u001b[0m\u001b[1;32m     11\u001b[0m     \u001b[0;32mfor\u001b[0m \u001b[0mnum2\u001b[0m \u001b[0;32min\u001b[0m \u001b[0mrange\u001b[0m\u001b[0;34m(\u001b[0m\u001b[0;34m-\u001b[0m\u001b[0mx_spec\u001b[0m\u001b[0;34m,\u001b[0m \u001b[0mx_spec\u001b[0m\u001b[0;34m+\u001b[0m\u001b[0;36m1\u001b[0m\u001b[0;34m)\u001b[0m\u001b[0;34m:\u001b[0m\u001b[0;34m\u001b[0m\u001b[0;34m\u001b[0m\u001b[0m\n\u001b[1;32m     12\u001b[0m         \u001b[0mcoordi\u001b[0m\u001b[0;34m.\u001b[0m\u001b[0mappend\u001b[0m\u001b[0;34m(\u001b[0m\u001b[0;34m[\u001b[0m\u001b[0mx\u001b[0m\u001b[0;34m+\u001b[0m\u001b[0mnum2\u001b[0m\u001b[0;34m,\u001b[0m \u001b[0my\u001b[0m\u001b[0;34m+\u001b[0m\u001b[0mnum\u001b[0m\u001b[0;34m]\u001b[0m\u001b[0;34m)\u001b[0m\u001b[0;34m\u001b[0m\u001b[0;34m\u001b[0m\u001b[0m\n",
      "\u001b[0;31mTypeError\u001b[0m: can't convert complex to int"
     ]
    }
   ],
   "metadata": {}
  },
  {
   "cell_type": "code",
   "execution_count": 33,
   "source": [
    "def countLatticePoints(circles):\n",
    "\n",
    "        def coordinate(circle) : \n",
    "            \n",
    "            x, y, r = circle\n",
    "\n",
    "            coordi = []\n",
    "            for num in range(-r, r+1):\n",
    "                cor = [x, y+num]\n",
    "                x_spec = int((r**2 - (num)**2)**(1/2))\n",
    "                for num2 in range(-x_spec, x_spec+1):\n",
    "                    coordi.append([x+num2, y+num])\n",
    "\n",
    "            return coordi\n",
    "        \n",
    "        coordinate_list = []\n",
    "        for circle in circles :\n",
    "            \n",
    "            coordinate_list = list(set(coordinate(circle)) | set(coordinate_list))\n",
    "            \n",
    "        return coordinate_list\n",
    "            "
   ],
   "outputs": [],
   "metadata": {}
  },
  {
   "cell_type": "code",
   "execution_count": 34,
   "source": [
    "countLatticePoints ([[2,2,1]])"
   ],
   "outputs": [
    {
     "output_type": "error",
     "ename": "TypeError",
     "evalue": "unhashable type: 'list'",
     "traceback": [
      "\u001b[0;31m---------------------------------------------------------------------------\u001b[0m",
      "\u001b[0;31mTypeError\u001b[0m                                 Traceback (most recent call last)",
      "\u001b[0;32m/var/folders/xk/hrw3wy1n61lf4xdzyjbzjtj00000gn/T/ipykernel_6429/815570814.py\u001b[0m in \u001b[0;36m<module>\u001b[0;34m\u001b[0m\n\u001b[0;32m----> 1\u001b[0;31m \u001b[0mcountLatticePoints\u001b[0m \u001b[0;34m(\u001b[0m\u001b[0;34m[\u001b[0m\u001b[0;34m[\u001b[0m\u001b[0;36m2\u001b[0m\u001b[0;34m,\u001b[0m\u001b[0;36m2\u001b[0m\u001b[0;34m,\u001b[0m\u001b[0;36m1\u001b[0m\u001b[0;34m]\u001b[0m\u001b[0;34m]\u001b[0m\u001b[0;34m)\u001b[0m\u001b[0;34m\u001b[0m\u001b[0;34m\u001b[0m\u001b[0m\n\u001b[0m",
      "\u001b[0;32m/var/folders/xk/hrw3wy1n61lf4xdzyjbzjtj00000gn/T/ipykernel_6429/2190597285.py\u001b[0m in \u001b[0;36mcountLatticePoints\u001b[0;34m(circles)\u001b[0m\n\u001b[1;32m     16\u001b[0m         \u001b[0mcoordinate_list\u001b[0m \u001b[0;34m=\u001b[0m \u001b[0;34m[\u001b[0m\u001b[0;34m]\u001b[0m\u001b[0;34m\u001b[0m\u001b[0;34m\u001b[0m\u001b[0m\n\u001b[1;32m     17\u001b[0m         \u001b[0;32mfor\u001b[0m \u001b[0mcircle\u001b[0m \u001b[0;32min\u001b[0m \u001b[0mcircles\u001b[0m \u001b[0;34m:\u001b[0m\u001b[0;34m\u001b[0m\u001b[0;34m\u001b[0m\u001b[0m\n\u001b[0;32m---> 18\u001b[0;31m             \u001b[0mcoordinate_list\u001b[0m \u001b[0;34m=\u001b[0m \u001b[0mlist\u001b[0m\u001b[0;34m(\u001b[0m\u001b[0mset\u001b[0m\u001b[0;34m(\u001b[0m\u001b[0mcoordinate\u001b[0m\u001b[0;34m(\u001b[0m\u001b[0mcircle\u001b[0m\u001b[0;34m)\u001b[0m\u001b[0;34m)\u001b[0m \u001b[0;34m|\u001b[0m \u001b[0mset\u001b[0m\u001b[0;34m(\u001b[0m\u001b[0mcoordinate_list\u001b[0m\u001b[0;34m)\u001b[0m\u001b[0;34m)\u001b[0m\u001b[0;34m\u001b[0m\u001b[0;34m\u001b[0m\u001b[0m\n\u001b[0m\u001b[1;32m     19\u001b[0m \u001b[0;34m\u001b[0m\u001b[0m\n\u001b[1;32m     20\u001b[0m         \u001b[0;32mreturn\u001b[0m \u001b[0mcoordinate_list\u001b[0m\u001b[0;34m\u001b[0m\u001b[0;34m\u001b[0m\u001b[0m\n",
      "\u001b[0;31mTypeError\u001b[0m: unhashable type: 'list'"
     ]
    }
   ],
   "metadata": {}
  },
  {
   "cell_type": "code",
   "execution_count": 35,
   "source": [
    "a = [[0,1],[1,2]]\n",
    "b = [[3,1],[1,2]]"
   ],
   "outputs": [],
   "metadata": {}
  },
  {
   "cell_type": "code",
   "execution_count": 36,
   "source": [
    "a - b"
   ],
   "outputs": [
    {
     "output_type": "error",
     "ename": "TypeError",
     "evalue": "unsupported operand type(s) for -: 'list' and 'list'",
     "traceback": [
      "\u001b[0;31m---------------------------------------------------------------------------\u001b[0m",
      "\u001b[0;31mTypeError\u001b[0m                                 Traceback (most recent call last)",
      "\u001b[0;32m/var/folders/xk/hrw3wy1n61lf4xdzyjbzjtj00000gn/T/ipykernel_6429/2070517315.py\u001b[0m in \u001b[0;36m<module>\u001b[0;34m\u001b[0m\n\u001b[0;32m----> 1\u001b[0;31m \u001b[0ma\u001b[0m \u001b[0;34m-\u001b[0m \u001b[0mb\u001b[0m\u001b[0;34m\u001b[0m\u001b[0;34m\u001b[0m\u001b[0m\n\u001b[0m",
      "\u001b[0;31mTypeError\u001b[0m: unsupported operand type(s) for -: 'list' and 'list'"
     ]
    }
   ],
   "metadata": {}
  },
  {
   "cell_type": "code",
   "execution_count": null,
   "source": [
    "[[2,2,1]]\n",
    "[[2,2,2],[3,4,1]]"
   ],
   "outputs": [],
   "metadata": {}
  },
  {
   "cell_type": "code",
   "execution_count": null,
   "source": [
    "\n",
    "\n",
    "\n",
    "                \n",
    "coordinate_list = []\n",
    "for circle in circles :\n",
    "    union (coordinate(circle), coordinate_list)\n",
    "    \n",
    "return coordinate_list\n",
    "    \n",
    "\n",
    "    \n",
    "    \n",
    "    \n"
   ],
   "outputs": [],
   "metadata": {}
  },
  {
   "cell_type": "code",
   "execution_count": 37,
   "source": [
    "def coordinate(circle) : \n",
    "    \n",
    "    x, y, r = circle\n",
    "\n",
    "    coordi = []\n",
    "    for num in range(-r, r+1):\n",
    "        cor = [x, y+num]\n",
    "        x_spec = int((r**2 - (num)**2)**(1/2))\n",
    "        for num2 in range(-x_spec, x_spec+1):\n",
    "            coordi.append([x+num2, y+num])\n",
    "\n",
    "    return coordi"
   ],
   "outputs": [],
   "metadata": {}
  },
  {
   "cell_type": "code",
   "execution_count": 40,
   "source": [
    "def union (group1, group2) :\n",
    "    \n",
    "    x_list = []\n",
    "    for x1, y1 in group1 :\n",
    "        x_list.append(x1)\n",
    "    for x2, y2 in group2:\n",
    "        x_list.append(x2)\n",
    "        \n",
    "    x_list = list(set(x_list))\n",
    "    \n",
    "    union_list = []\n",
    "    for x_ in x_list:\n",
    "        tmp = []\n",
    "        for x_1, y_1 in group1:\n",
    "            if x_ == x_1:\n",
    "                tmp.append(y_1)\n",
    "        for x_2, y_2 in group2:\n",
    "            if x_ == x_2:\n",
    "                tmp.append(y_2)\n",
    "        tmp = list(set(tmp))\n",
    "        for t in tmp:\n",
    "            union_list.append([x_, t])\n",
    "    \n",
    "    return union_list"
   ],
   "outputs": [],
   "metadata": {}
  },
  {
   "cell_type": "code",
   "execution_count": 43,
   "source": [
    "g1 = coordinate([2,2,2])\n",
    "g1"
   ],
   "outputs": [
    {
     "output_type": "execute_result",
     "data": {
      "text/plain": [
       "[[2, 0],\n",
       " [1, 1],\n",
       " [2, 1],\n",
       " [3, 1],\n",
       " [0, 2],\n",
       " [1, 2],\n",
       " [2, 2],\n",
       " [3, 2],\n",
       " [4, 2],\n",
       " [1, 3],\n",
       " [2, 3],\n",
       " [3, 3],\n",
       " [2, 4]]"
      ]
     },
     "metadata": {},
     "execution_count": 43
    }
   ],
   "metadata": {}
  },
  {
   "cell_type": "code",
   "execution_count": 44,
   "source": [
    "g2 = coordinate([3,4,1])\n",
    "g2"
   ],
   "outputs": [
    {
     "output_type": "execute_result",
     "data": {
      "text/plain": [
       "[[3, 3], [2, 4], [3, 4], [4, 4], [3, 5]]"
      ]
     },
     "metadata": {},
     "execution_count": 44
    }
   ],
   "metadata": {}
  },
  {
   "cell_type": "code",
   "execution_count": 45,
   "source": [
    "union (g1, g2)"
   ],
   "outputs": [
    {
     "output_type": "execute_result",
     "data": {
      "text/plain": [
       "[[0, 2],\n",
       " [1, 1],\n",
       " [1, 2],\n",
       " [1, 3],\n",
       " [2, 0],\n",
       " [2, 1],\n",
       " [2, 2],\n",
       " [2, 3],\n",
       " [2, 4],\n",
       " [3, 1],\n",
       " [3, 2],\n",
       " [3, 3],\n",
       " [3, 4],\n",
       " [3, 5],\n",
       " [4, 2],\n",
       " [4, 4]]"
      ]
     },
     "metadata": {},
     "execution_count": 45
    }
   ],
   "metadata": {}
  },
  {
   "cell_type": "code",
   "execution_count": 46,
   "source": [
    "def coordinate(circle) : \n",
    "            \n",
    "    x, y, r = circle\n",
    "\n",
    "    coordi = []\n",
    "    for num in range(-r, r+1):\n",
    "        cor = [x, y+num]\n",
    "        x_spec = int((r**2 - (num)**2)**(1/2))\n",
    "        for num2 in range(-x_spec, x_spec+1):\n",
    "            coordi.append([x+num2, y+num])\n",
    "\n",
    "    return coordi\n",
    "        \n",
    "def union (group1, group2) :\n",
    "    \n",
    "    x_list = []\n",
    "    for x1, y1 in group1 :\n",
    "        x_list.append(x1)\n",
    "    for x2, y2 in group2:\n",
    "        x_list.append(x2)\n",
    "        \n",
    "    x_list = list(set(x_list))\n",
    "    \n",
    "    union_list = []\n",
    "    for x_ in x_list:\n",
    "        tmp = []\n",
    "        for x_1, y_1 in group1:\n",
    "            if x_ == x_1:\n",
    "                tmp.append(y_1)\n",
    "        for x_2, y_2 in group2:\n",
    "            if x_ == x_2:\n",
    "                tmp.append(y_2)\n",
    "        tmp = list(set(tmp))\n",
    "        for t in tmp:\n",
    "            union_list.append([x_, t])\n",
    "            \n",
    "    return union_list\n",
    "                        \n",
    "\n"
   ],
   "outputs": [],
   "metadata": {}
  },
  {
   "cell_type": "code",
   "execution_count": 47,
   "source": [
    "circles = [[2,2,2],[3,4,1]]\n",
    "coordinate_list = []\n",
    "for circle in circles :\n",
    "    coordinate_list = union (coordinate(circle), coordinate_list)\n",
    "    \n",
    "print(coordinate_list)"
   ],
   "outputs": [
    {
     "output_type": "stream",
     "name": "stdout",
     "text": [
      "[[0, 2], [1, 1], [1, 2], [1, 3], [2, 0], [2, 1], [2, 2], [2, 3], [2, 4], [3, 1], [3, 2], [3, 3], [3, 4], [3, 5], [4, 2], [4, 4]]\n"
     ]
    }
   ],
   "metadata": {}
  },
  {
   "cell_type": "code",
   "execution_count": 48,
   "source": [
    "ans = set()"
   ],
   "outputs": [],
   "metadata": {}
  },
  {
   "cell_type": "code",
   "execution_count": 49,
   "source": [
    "ans"
   ],
   "outputs": [
    {
     "output_type": "execute_result",
     "data": {
      "text/plain": [
       "set()"
      ]
     },
     "metadata": {},
     "execution_count": 49
    }
   ],
   "metadata": {}
  },
  {
   "cell_type": "code",
   "execution_count": 51,
   "source": [
    "ans.add((1,2))"
   ],
   "outputs": [],
   "metadata": {}
  },
  {
   "cell_type": "code",
   "execution_count": 52,
   "source": [
    "ans"
   ],
   "outputs": [
    {
     "output_type": "execute_result",
     "data": {
      "text/plain": [
       "{(1, 2)}"
      ]
     },
     "metadata": {},
     "execution_count": 52
    }
   ],
   "metadata": {}
  },
  {
   "cell_type": "code",
   "execution_count": 53,
   "source": [
    "ans.add((2,3))"
   ],
   "outputs": [],
   "metadata": {}
  },
  {
   "cell_type": "code",
   "execution_count": 54,
   "source": [
    "ans"
   ],
   "outputs": [
    {
     "output_type": "execute_result",
     "data": {
      "text/plain": [
       "{(1, 2), (2, 3)}"
      ]
     },
     "metadata": {},
     "execution_count": 54
    }
   ],
   "metadata": {}
  },
  {
   "cell_type": "code",
   "execution_count": 55,
   "source": [
    "ans.add((1,2))"
   ],
   "outputs": [],
   "metadata": {}
  },
  {
   "cell_type": "code",
   "execution_count": 56,
   "source": [
    "ans"
   ],
   "outputs": [
    {
     "output_type": "execute_result",
     "data": {
      "text/plain": [
       "{(1, 2), (2, 3)}"
      ]
     },
     "metadata": {},
     "execution_count": 56
    }
   ],
   "metadata": {}
  },
  {
   "cell_type": "code",
   "execution_count": null,
   "source": [],
   "outputs": [],
   "metadata": {}
  }
 ],
 "metadata": {
  "orig_nbformat": 4,
  "language_info": {
   "name": "python",
   "version": "3.8.2",
   "mimetype": "text/x-python",
   "codemirror_mode": {
    "name": "ipython",
    "version": 3
   },
   "pygments_lexer": "ipython3",
   "nbconvert_exporter": "python",
   "file_extension": ".py"
  },
  "kernelspec": {
   "name": "python3",
   "display_name": "Python 3.8.2 64-bit"
  },
  "interpreter": {
   "hash": "31f2aee4e71d21fbe5cf8b01ff0e069b9275f58929596ceb00d14d90e3e16cd6"
  }
 },
 "nbformat": 4,
 "nbformat_minor": 2
}