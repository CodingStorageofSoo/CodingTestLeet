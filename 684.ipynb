{
 "cells": [
  {
   "cell_type": "code",
   "execution_count": 1,
   "source": [
    "edges = [[2,1],[3,1],[4,2],[1,4]]\n",
    "n = len(edges)"
   ],
   "outputs": [],
   "metadata": {}
  },
  {
   "cell_type": "code",
   "execution_count": 2,
   "source": [
    "graph = [[] for _ in range(n+1)]\n",
    "for edge in edges:\n",
    "    a, b = edge\n",
    "    graph[a].append(b)\n",
    "    graph[b].append(a)"
   ],
   "outputs": [],
   "metadata": {}
  },
  {
   "cell_type": "code",
   "execution_count": 3,
   "source": [
    "graph"
   ],
   "outputs": [
    {
     "output_type": "execute_result",
     "data": {
      "text/plain": [
       "[[], [2, 3, 4], [1, 4], [1], [2, 1]]"
      ]
     },
     "metadata": {},
     "execution_count": 3
    }
   ],
   "metadata": {}
  },
  {
   "cell_type": "code",
   "execution_count": 5,
   "source": [
    "parent = [i for i in range(n+1)]\n",
    "parent"
   ],
   "outputs": [
    {
     "output_type": "execute_result",
     "data": {
      "text/plain": [
       "[0, 1, 2, 3, 4, 5]"
      ]
     },
     "metadata": {},
     "execution_count": 5
    }
   ],
   "metadata": {}
  },
  {
   "cell_type": "code",
   "execution_count": 6,
   "source": [
    "def find_parent (parent, i):\n",
    "    if parent[i] != i :\n",
    "        parent[i] = find_parent(parent, parent[i])\n",
    "    return parent[i]"
   ],
   "outputs": [],
   "metadata": {}
  },
  {
   "cell_type": "code",
   "execution_count": 8,
   "source": [
    "def union_parent (parent, i, j):\n",
    "    i = find_parent(parent, i)\n",
    "    j = find_parent(parent, j)\n",
    "    if i < j :\n",
    "        parent[j] = parent[i]\n",
    "    else :\n",
    "        parent[i] = parent[j]"
   ],
   "outputs": [],
   "metadata": {}
  },
  {
   "cell_type": "code",
   "execution_count": 9,
   "source": [
    "ans = []\n",
    "for edge in edges:\n",
    "    a, b = edge\n",
    "    if find_parent (parent, a) != find_parent (parent, b):\n",
    "        union_parent (parent, a, b) \n",
    "        ans.append(edge)"
   ],
   "outputs": [],
   "metadata": {}
  },
  {
   "cell_type": "code",
   "execution_count": 12,
   "source": [
    "for edge in edges:\n",
    "    if edge not in ans:\n",
    "        print (edge)\n"
   ],
   "outputs": [
    {
     "output_type": "stream",
     "name": "stdout",
     "text": [
      "[1, 4]\n"
     ]
    }
   ],
   "metadata": {}
  }
 ],
 "metadata": {
  "interpreter": {
   "hash": "31f2aee4e71d21fbe5cf8b01ff0e069b9275f58929596ceb00d14d90e3e16cd6"
  },
  "kernelspec": {
   "name": "python3",
   "display_name": "Python 3.8.2 64-bit"
  },
  "language_info": {
   "codemirror_mode": {
    "name": "ipython",
    "version": 3
   },
   "file_extension": ".py",
   "mimetype": "text/x-python",
   "name": "python",
   "nbconvert_exporter": "python",
   "pygments_lexer": "ipython3",
   "version": "3.8.2"
  },
  "orig_nbformat": 4
 },
 "nbformat": 4,
 "nbformat_minor": 2
}