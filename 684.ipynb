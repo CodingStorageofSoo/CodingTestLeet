{
 "cells": [
  {
   "cell_type": "code",
   "execution_count": 2,
   "metadata": {},
   "outputs": [],
   "source": [
    "class DSU(object):\n",
    "    \n",
    "    def __init__(self):\n",
    "        self.par = range(1001)\n",
    "        self.rnk = [0] * 1001\n",
    "\n",
    "    def find(self, x):\n",
    "        if self.par[x] != x:\n",
    "            self.par[x] = self.find(self.par[x])\n",
    "        return self.par[x]\n",
    "\n",
    "    def union(self, x, y):\n",
    "        xr, yr = self.find(x), self.find(y)\n",
    "        if xr == yr:\n",
    "            return False\n",
    "        elif self.rnk[xr] < self.rnk[yr]:\n",
    "            self.par[xr] = yr\n",
    "        elif self.rnk[xr] > self.rnk[yr]:\n",
    "            self.par[yr] = xr\n",
    "        else:\n",
    "            self.par[yr] = xr\n",
    "            self.rnk[xr] += 1\n",
    "        return True\n"
   ]
  },
  {
   "cell_type": "code",
   "execution_count": 3,
   "metadata": {},
   "outputs": [],
   "source": [
    "dsu = DSU()"
   ]
  },
  {
   "cell_type": "code",
   "execution_count": 8,
   "metadata": {},
   "outputs": [
    {
     "ename": "TypeError",
     "evalue": "'range' object does not support item assignment",
     "output_type": "error",
     "traceback": [
      "\u001b[1;31m---------------------------------------------------------------------------\u001b[0m",
      "\u001b[1;31mTypeError\u001b[0m                                 Traceback (most recent call last)",
      "\u001b[1;32mc:\\Users\\chlqu\\OneDrive\\바탕 화면\\CodingTestLeet\\684.ipynb Cell 3'\u001b[0m in \u001b[0;36m<module>\u001b[1;34m\u001b[0m\n\u001b[1;32m----> <a href='vscode-notebook-cell:/c%3A/Users/chlqu/OneDrive/%EB%B0%94%ED%83%95%20%ED%99%94%EB%A9%B4/CodingTestLeet/684.ipynb#ch0000003?line=0'>1</a>\u001b[0m dsu\u001b[39m.\u001b[39;49munion(\u001b[39m1\u001b[39;49m,\u001b[39m2\u001b[39;49m)\n",
      "\u001b[1;32mc:\\Users\\chlqu\\OneDrive\\바탕 화면\\CodingTestLeet\\684.ipynb Cell 1'\u001b[0m in \u001b[0;36mDSU.union\u001b[1;34m(self, x, y)\u001b[0m\n\u001b[0;32m     <a href='vscode-notebook-cell:/c%3A/Users/chlqu/OneDrive/%EB%B0%94%ED%83%95%20%ED%99%94%EB%A9%B4/CodingTestLeet/684.ipynb#ch0000000?line=18'>19</a>\u001b[0m     \u001b[39mself\u001b[39m\u001b[39m.\u001b[39mpar[yr] \u001b[39m=\u001b[39m xr\n\u001b[0;32m     <a href='vscode-notebook-cell:/c%3A/Users/chlqu/OneDrive/%EB%B0%94%ED%83%95%20%ED%99%94%EB%A9%B4/CodingTestLeet/684.ipynb#ch0000000?line=19'>20</a>\u001b[0m \u001b[39melse\u001b[39;00m:\n\u001b[1;32m---> <a href='vscode-notebook-cell:/c%3A/Users/chlqu/OneDrive/%EB%B0%94%ED%83%95%20%ED%99%94%EB%A9%B4/CodingTestLeet/684.ipynb#ch0000000?line=20'>21</a>\u001b[0m     \u001b[39mself\u001b[39m\u001b[39m.\u001b[39mpar[yr] \u001b[39m=\u001b[39m xr\n\u001b[0;32m     <a href='vscode-notebook-cell:/c%3A/Users/chlqu/OneDrive/%EB%B0%94%ED%83%95%20%ED%99%94%EB%A9%B4/CodingTestLeet/684.ipynb#ch0000000?line=21'>22</a>\u001b[0m     \u001b[39mself\u001b[39m\u001b[39m.\u001b[39mrnk[xr] \u001b[39m+\u001b[39m\u001b[39m=\u001b[39m \u001b[39m1\u001b[39m\n\u001b[0;32m     <a href='vscode-notebook-cell:/c%3A/Users/chlqu/OneDrive/%EB%B0%94%ED%83%95%20%ED%99%94%EB%A9%B4/CodingTestLeet/684.ipynb#ch0000000?line=22'>23</a>\u001b[0m \u001b[39mreturn\u001b[39;00m \u001b[39mTrue\u001b[39;00m\n",
      "\u001b[1;31mTypeError\u001b[0m: 'range' object does not support item assignment"
     ]
    }
   ],
   "source": [
    "dsu.union(1,2)"
   ]
  },
  {
   "cell_type": "code",
   "execution_count": null,
   "metadata": {},
   "outputs": [],
   "source": [
    "\n",
    "class Solution(object):\n",
    "    def findRedundantConnection(self, edges):\n",
    "        dsu = DSU()\n",
    "        for edge in edges:\n",
    "            if not dsu.union(*edge):\n",
    "                return edge"
   ]
  },
  {
   "cell_type": "code",
   "execution_count": 9,
   "metadata": {},
   "outputs": [],
   "source": [
    "def find_parent (parent, x):\n",
    "    \n",
    "    if parent [x] != x:\n",
    "        parent [x] = find_parent (parent [x])\n",
    "    else :\n",
    "        return parent[x]"
   ]
  },
  {
   "cell_type": "code",
   "execution_count": 10,
   "metadata": {},
   "outputs": [],
   "source": [
    "def union_parent (parent, a, b):\n",
    "    a = find_parent(parent, a)\n",
    "    b = find_parent(parent, b)\n",
    "    if a < b :\n",
    "        parent[b] = a\n",
    "    else :\n",
    "        parent[a] = b"
   ]
  },
  {
   "cell_type": "code",
   "execution_count": null,
   "metadata": {},
   "outputs": [],
   "source": [
    "class DSU(object):\n",
    "    \n",
    "    def __init__(self):\n",
    "        self.par = range(1001)\n",
    "        self.rnk = [0] * 1001\n",
    "\n",
    "    def find(self, x):\n",
    "        \n",
    "    def union(self, x, y):\n",
    "        xr, yr = self.find(x), self.find(y)\n",
    "        if xr == yr:\n",
    "            return False\n",
    "        elif self.rnk[xr] < self.rnk[yr]:\n",
    "            self.par[xr] = yr\n",
    "        elif self.rnk[xr] > self.rnk[yr]:\n",
    "            self.par[yr] = xr\n",
    "        else:\n",
    "            self.par[yr] = xr\n",
    "            self.rnk[xr] += 1\n",
    "        return True\n"
   ]
  }
 ],
 "metadata": {
  "interpreter": {
   "hash": "3516fe392b73aa4c2da58fe314a090916ee110d0f8fe6cfd79b4ffaff3759604"
  },
  "kernelspec": {
   "display_name": "Python 3.10.0 64-bit",
   "language": "python",
   "name": "python3"
  },
  "language_info": {
   "codemirror_mode": {
    "name": "ipython",
    "version": 3
   },
   "file_extension": ".py",
   "mimetype": "text/x-python",
   "name": "python",
   "nbconvert_exporter": "python",
   "pygments_lexer": "ipython3",
   "version": "3.10.0"
  },
  "orig_nbformat": 4
 },
 "nbformat": 4,
 "nbformat_minor": 2
}
