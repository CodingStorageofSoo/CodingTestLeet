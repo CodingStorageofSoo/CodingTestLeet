{
 "cells": [
  {
   "cell_type": "code",
   "execution_count": 59,
   "source": [
    "points = [[0,0],[2,2],[3,10],[5,2],[7,0]]"
   ],
   "outputs": [],
   "metadata": {}
  },
  {
   "cell_type": "code",
   "execution_count": 60,
   "source": [
    "edges = []\n",
    "for i in range (len(points)):\n",
    "    for j in range(i+1,len(points)):\n",
    "        x1, y1 = points[i]\n",
    "        x2, y2 = points[j]\n",
    "        edges.append([i,j,abs(x1-x2) + abs(y1-y2)])            "
   ],
   "outputs": [],
   "metadata": {}
  },
  {
   "cell_type": "code",
   "execution_count": 61,
   "source": [
    "edges"
   ],
   "outputs": [
    {
     "output_type": "execute_result",
     "data": {
      "text/plain": [
       "[[0, 1, 4],\n",
       " [0, 2, 13],\n",
       " [0, 3, 7],\n",
       " [0, 4, 7],\n",
       " [1, 2, 9],\n",
       " [1, 3, 3],\n",
       " [1, 4, 7],\n",
       " [2, 3, 10],\n",
       " [2, 4, 14],\n",
       " [3, 4, 4]]"
      ]
     },
     "metadata": {},
     "execution_count": 61
    }
   ],
   "metadata": {}
  },
  {
   "cell_type": "code",
   "execution_count": 62,
   "source": [
    "def find_parent(parent, x):\n",
    "    if parent[x] != x:\n",
    "        parent[x] = find_parent(parent, parent[x])\n",
    "    return parent[x]"
   ],
   "outputs": [],
   "metadata": {}
  },
  {
   "cell_type": "code",
   "execution_count": 63,
   "source": [
    "def union (parent, x, y):\n",
    "    a = find_parent(parent, x)\n",
    "    b = find_parent(parent, y)\n",
    "    if a > b :\n",
    "        parent[a] = b\n",
    "    elif a < b:\n",
    "        parent[b] = a\n",
    "    else:\n",
    "        return False\n",
    "    return True"
   ],
   "outputs": [],
   "metadata": {}
  },
  {
   "cell_type": "code",
   "execution_count": 64,
   "source": [
    "edges.sort(key=lambda x : x[2])"
   ],
   "outputs": [],
   "metadata": {}
  },
  {
   "cell_type": "code",
   "execution_count": 65,
   "source": [
    "edges"
   ],
   "outputs": [
    {
     "output_type": "execute_result",
     "data": {
      "text/plain": [
       "[[1, 3, 3],\n",
       " [0, 1, 4],\n",
       " [3, 4, 4],\n",
       " [0, 3, 7],\n",
       " [0, 4, 7],\n",
       " [1, 4, 7],\n",
       " [1, 2, 9],\n",
       " [2, 3, 10],\n",
       " [0, 2, 13],\n",
       " [2, 4, 14]]"
      ]
     },
     "metadata": {},
     "execution_count": 65
    }
   ],
   "metadata": {}
  },
  {
   "cell_type": "code",
   "execution_count": 66,
   "source": [
    "parent = [i for i in range(len(points))]\n",
    "parent"
   ],
   "outputs": [
    {
     "output_type": "execute_result",
     "data": {
      "text/plain": [
       "[0, 1, 2, 3, 4]"
      ]
     },
     "metadata": {},
     "execution_count": 66
    }
   ],
   "metadata": {}
  },
  {
   "cell_type": "code",
   "execution_count": 67,
   "source": [
    "total_cost = 0\n",
    "for x, y, cost in edges:\n",
    "    if union(parent, x, y):\n",
    "        total_cost = total_cost + cost"
   ],
   "outputs": [],
   "metadata": {}
  },
  {
   "cell_type": "code",
   "execution_count": 68,
   "source": [
    "total_cost"
   ],
   "outputs": [
    {
     "output_type": "execute_result",
     "data": {
      "text/plain": [
       "20"
      ]
     },
     "metadata": {},
     "execution_count": 68
    }
   ],
   "metadata": {}
  }
 ],
 "metadata": {
  "orig_nbformat": 4,
  "language_info": {
   "name": "python",
   "version": "3.8.2",
   "mimetype": "text/x-python",
   "codemirror_mode": {
    "name": "ipython",
    "version": 3
   },
   "pygments_lexer": "ipython3",
   "nbconvert_exporter": "python",
   "file_extension": ".py"
  },
  "kernelspec": {
   "name": "python3",
   "display_name": "Python 3.8.2 64-bit"
  },
  "interpreter": {
   "hash": "31f2aee4e71d21fbe5cf8b01ff0e069b9275f58929596ceb00d14d90e3e16cd6"
  }
 },
 "nbformat": 4,
 "nbformat_minor": 2
}