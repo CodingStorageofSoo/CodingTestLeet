{
 "cells": [
  {
   "cell_type": "code",
   "execution_count": 319,
   "metadata": {},
   "outputs": [
    {
     "data": {
      "text/plain": [
       "['g', 'c']"
      ]
     },
     "execution_count": 319,
     "metadata": {},
     "output_type": "execute_result"
    }
   ],
   "source": [
    "from collections import defaultdict, deque\n",
    "\n",
    "class TrieNode ():\n",
    "    def __init__(self):\n",
    "        self.children = {}\n",
    "        self.isWord = False \n",
    "        self.finalWord = []\n",
    "\n",
    "class Solution:\n",
    "    \n",
    "    def __init__ (self):\n",
    "        self.root = TrieNode()\n",
    "    \n",
    "    def insert (self, word):\n",
    "        \n",
    "        current = self.root\n",
    "        wordList = []\n",
    "        for char in word :\n",
    "            if char not in current.children:\n",
    "                current.children[char]=TrieNode()\n",
    "            current = current.children[char]\n",
    "            wordList.append(char)\n",
    "            # print(current.finalWord)\n",
    "        current.isWord = True \n",
    "        current.finalWord = wordList\n",
    "        # print(current.finalWord)\n",
    "                \n",
    "    def longestWord(self, words):\n",
    "        \n",
    "        for word in words:\n",
    "            self.insert(word)\n",
    "        \n",
    "        # q = deque ()\n",
    "        # final = 0 \n",
    "        # q.append(self.root)        \n",
    "        # final_length = 0\n",
    "        \n",
    "        # while q:\n",
    "        #     node = q.popleft()\n",
    "        #     for children in node.children :\n",
    "        #         current_node = node.children[children]\n",
    "        #         if current_node.isWord == True:\n",
    "        #             q.append(current_node)\n",
    "        #             if current_node.length > final_length:\n",
    "        #                 final_length = current_node.length \n",
    "        #                 final = current_node.Word\n",
    "        #             elif current_node.length == final_length:\n",
    "        #                 if final[-1] > current_node.Word [-1]:\n",
    "        #                     final = current_node.Word\n",
    "\n",
    "        return self.root.children['g'].children['c'].finalWord\n",
    "\n",
    "        # if final :\n",
    "        #     return final\n",
    "        # else : \n",
    "        #     return \"\"\n",
    "\n",
    "ans = Solution()\n",
    "\n",
    "ans.longestWord( words = [\"gcpucfv\",\"gcpucfvk\",\"g\",\"gc\",\"gcp\",\"gcpucf\",\"gcpu\"])"
   ]
  },
  {
   "cell_type": "code",
   "execution_count": null,
   "metadata": {},
   "outputs": [],
   "source": []
  },
  {
   "cell_type": "code",
   "execution_count": null,
   "metadata": {},
   "outputs": [],
   "source": []
  },
  {
   "cell_type": "code",
   "execution_count": null,
   "metadata": {},
   "outputs": [],
   "source": []
  }
 ],
 "metadata": {
  "interpreter": {
   "hash": "5aeacfe1105f4ceda53f6b2dcb5795f42a9befc5995ea92b86c85e78e81f5e2d"
  },
  "kernelspec": {
   "display_name": "Python 3.10.0 64-bit",
   "language": "python",
   "name": "python3"
  },
  "language_info": {
   "codemirror_mode": {
    "name": "ipython",
    "version": 3
   },
   "file_extension": ".py",
   "mimetype": "text/x-python",
   "name": "python",
   "nbconvert_exporter": "python",
   "pygments_lexer": "ipython3",
   "version": "3.10.0"
  },
  "orig_nbformat": 4
 },
 "nbformat": 4,
 "nbformat_minor": 2
}
