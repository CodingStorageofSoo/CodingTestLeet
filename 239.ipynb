{
 "cells": [
  {
   "cell_type": "code",
   "execution_count": 3,
   "metadata": {},
   "outputs": [],
   "source": [
    "nums = [1,3,-1,-3,5,3,6,7]\n",
    "k = 3\n",
    "n = len(nums)"
   ]
  },
  {
   "cell_type": "code",
   "execution_count": 5,
   "metadata": {},
   "outputs": [],
   "source": [
    "if n * k == 0:\n",
    "    ans = []\n",
    "if k == 1:\n",
    "    ans = nums"
   ]
  },
  {
   "cell_type": "code",
   "execution_count": 7,
   "metadata": {},
   "outputs": [
    {
     "name": "stdout",
     "output_type": "stream",
     "text": [
      "[1, 0, 0, 0, 0, 0, 0, 0]\n",
      "[0, 0, 0, 0, 0, 0, 0, 7]\n"
     ]
    }
   ],
   "source": [
    "left = [0] * n\n",
    "left[0] = nums[0]\n",
    "right = [0] * n\n",
    "right[n - 1] = nums[n - 1]\n",
    "print(left)\n",
    "print(right)"
   ]
  },
  {
   "cell_type": "code",
   "execution_count": 8,
   "metadata": {},
   "outputs": [],
   "source": [
    "for i in range(1, n):\n",
    "    # from left to right\n",
    "    if i % k == 0:\n",
    "        # block start\n",
    "        left[i] = nums[i]\n",
    "    else:\n",
    "        left[i] = max(left[i - 1], nums[i])\n",
    "    # from right to left\n",
    "    j = n - i - 1\n",
    "    if (j + 1) % k == 0:\n",
    "        # block end\n",
    "        right[j] = nums[j]\n",
    "    else:\n",
    "        right[j] = max(right[j + 1], nums[j])"
   ]
  },
  {
   "cell_type": "code",
   "execution_count": 9,
   "metadata": {},
   "outputs": [
    {
     "data": {
      "text/plain": [
       "[1, 3, 3, -3, 5, 5, 6, 7]"
      ]
     },
     "execution_count": 9,
     "metadata": {},
     "output_type": "execute_result"
    }
   ],
   "source": [
    "left"
   ]
  },
  {
   "cell_type": "markdown",
   "metadata": {},
   "source": []
  },
  {
   "cell_type": "code",
   "execution_count": 10,
   "metadata": {},
   "outputs": [
    {
     "data": {
      "text/plain": [
       "[3, 3, -1, 5, 5, 3, 7, 7]"
      ]
     },
     "execution_count": 10,
     "metadata": {},
     "output_type": "execute_result"
    }
   ],
   "source": [
    "right"
   ]
  },
  {
   "cell_type": "code",
   "execution_count": null,
   "metadata": {},
   "outputs": [],
   "source": [
    "output = []\n",
    "for i in range(n - k + 1):\n",
    "    output.append(max(left[i + k - 1], right[i]))\n",
    "    \n",
    "ans = output"
   ]
  }
 ],
 "metadata": {
  "interpreter": {
   "hash": "3516fe392b73aa4c2da58fe314a090916ee110d0f8fe6cfd79b4ffaff3759604"
  },
  "kernelspec": {
   "display_name": "Python 3.10.0 64-bit",
   "language": "python",
   "name": "python3"
  },
  "language_info": {
   "codemirror_mode": {
    "name": "ipython",
    "version": 3
   },
   "file_extension": ".py",
   "mimetype": "text/x-python",
   "name": "python",
   "nbconvert_exporter": "python",
   "pygments_lexer": "ipython3",
   "version": "3.10.0"
  },
  "orig_nbformat": 4
 },
 "nbformat": 4,
 "nbformat_minor": 2
}
