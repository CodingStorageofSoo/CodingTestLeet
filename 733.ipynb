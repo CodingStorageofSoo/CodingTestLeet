{
 "cells": [
  {
   "cell_type": "code",
   "execution_count": 4,
   "source": [
    "image = [[1,1,1],[1,1,0],[1,0,1]]\n",
    "sr = 1 \n",
    "sc = 1 \n",
    "newColor = 2"
   ],
   "outputs": [],
   "metadata": {}
  },
  {
   "cell_type": "code",
   "execution_count": null,
   "source": [
    "from collections import deque\n",
    "\n",
    "dx = [1,-1,0,0]\n",
    "dy = [0,0,1,-1]\n",
    "\n",
    "sameColor = image[sr][sc]\n",
    "\n",
    "if sameColor == newColor:\n",
    "    print(image)\n",
    "\n",
    "q = deque()\n",
    "q.append([sr,sc])\n",
    "\n",
    "while q :\n",
    "    \n",
    "    x, y = q.popleft()\n",
    "    image[x][y] = newColor\n",
    "    print(image)\n",
    "    \n",
    "    for i in range(4):\n",
    "        nx = x + dx[i]\n",
    "        ny = y + dy[i]\n",
    "        if 0 <= nx < len(image) and 0 <= ny < len(image[0]):\n",
    "            if image[nx][ny] == sameColor:\n",
    "                q.append([nx,ny])\n",
    "            \n",
    "    \n",
    "print(image)"
   ],
   "outputs": [],
   "metadata": {}
  },
  {
   "cell_type": "code",
   "execution_count": null,
   "source": [],
   "outputs": [],
   "metadata": {}
  }
 ],
 "metadata": {
  "orig_nbformat": 4,
  "language_info": {
   "name": "python",
   "version": "3.8.2",
   "mimetype": "text/x-python",
   "codemirror_mode": {
    "name": "ipython",
    "version": 3
   },
   "pygments_lexer": "ipython3",
   "nbconvert_exporter": "python",
   "file_extension": ".py"
  },
  "kernelspec": {
   "name": "python3",
   "display_name": "Python 3.8.2 64-bit"
  },
  "interpreter": {
   "hash": "31f2aee4e71d21fbe5cf8b01ff0e069b9275f58929596ceb00d14d90e3e16cd6"
  }
 },
 "nbformat": 4,
 "nbformat_minor": 2
}