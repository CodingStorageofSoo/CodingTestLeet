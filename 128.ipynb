{
 "cells": [
  {
   "cell_type": "code",
   "execution_count": null,
   "metadata": {},
   "outputs": [],
   "source": [
    "class Solution:\n",
    "    def longestConsecutive(self, nums: List[int]) -> int:\n",
    "        \n",
    "        longest = 0 \n",
    "        nums_set = set(nums)\n",
    "        \n",
    "        for num in nums_set:\n",
    "            if (num-1) not in nums_set:\n",
    "                cur_num = num\n",
    "                cur_ = 1\n",
    "                \n",
    "                while (cur_num+1) in nums_set:\n",
    "                    cur_num += 1\n",
    "                    cur_ += 1\n",
    "                    \n",
    "                longest = max(longest, cur_)\n",
    "                \n",
    "        return longest\n",
    "                    \n",
    "        "
   ]
  }
 ],
 "metadata": {
  "language_info": {
   "name": "python"
  },
  "orig_nbformat": 4
 },
 "nbformat": 4,
 "nbformat_minor": 2
}
