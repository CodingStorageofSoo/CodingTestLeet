{
 "cells": [
  {
   "cell_type": "code",
   "execution_count": 1,
   "source": [
    "n = 4 \n",
    "flights = [[0,1,100],[1,2,100],[2,0,100],[1,3,600],[2,3,200]]\n",
    "src = 0\n",
    "dst = 3\n",
    "k = 1"
   ],
   "outputs": [],
   "metadata": {}
  },
  {
   "cell_type": "code",
   "execution_count": null,
   "source": [
    "adj_matrix = [[]]"
   ],
   "outputs": [],
   "metadata": {}
  },
  {
   "cell_type": "code",
   "execution_count": null,
   "source": [
    "import heapq\n",
    "\n",
    "class Solution:\n",
    "    \n",
    "    def findCheapestPrice(self, n: int, flights: List[List[int]], src: int, dst: int, K: int) -> int:\n",
    "        \n",
    "        # Build the adjacency matrix\n",
    "        adj_matrix = [[0 for _ in range(n)] for _ in range(n)]\n",
    "        for s, d, w in flights:\n",
    "            adj_matrix[s][d] = w\n",
    "            \n",
    "        # Shortest distances array\n",
    "        distances = [float(\"inf\") for _ in range(n)]\n",
    "        current_stops = [float(\"inf\") for _ in range(n)]\n",
    "        distances[src], current_stops[src] = 0, 0\n",
    "        \n",
    "        # Data is (cost, stops, node)\n",
    "        minHeap = [(0, 0, src)]     \n",
    "        \n",
    "        while minHeap:\n",
    "            \n",
    "            cost, stops, node = heapq.heappop(minHeap)\n",
    "            \n",
    "            # If destination is reached, return the cost to get here\n",
    "            if node == dst:\n",
    "                return cost\n",
    "            \n",
    "            # If there are no more steps left, continue \n",
    "            if stops == K + 1:\n",
    "                continue\n",
    "             \n",
    "            # Examine and relax all neighboring edges if possible \n",
    "            for nei in range(n):\n",
    "                if adj_matrix[node][nei] > 0:\n",
    "                    dU, dV, wUV = cost, distances[nei], adj_matrix[node][nei]\n",
    "                    \n",
    "                    # Better cost?\n",
    "                    if dU + wUV < dV:\n",
    "                        distances[nei] = dU + wUV\n",
    "                        heapq.heappush(minHeap, (dU + wUV, stops + 1, nei))\n",
    "                    elif stops < current_stops[nei]:\n",
    "                        #  Better steps?\n",
    "                        heapq.heappush(minHeap, (dU + wUV, stops + 1, nei))\n",
    "                        \n",
    "                    current_stops[nei] = stops\n",
    "            \n",
    "        return -1 if distances[dst] == float(\"inf\") else distances[dst]"
   ],
   "outputs": [],
   "metadata": {}
  },
  {
   "cell_type": "code",
   "execution_count": 2,
   "source": [
    "nums = [1,2,3]"
   ],
   "outputs": [],
   "metadata": {}
  },
  {
   "cell_type": "code",
   "execution_count": 3,
   "source": [
    "nums + nums"
   ],
   "outputs": [
    {
     "output_type": "execute_result",
     "data": {
      "text/plain": [
       "[1, 2, 3, 1, 2, 3]"
      ]
     },
     "metadata": {},
     "execution_count": 3
    }
   ],
   "metadata": {}
  },
  {
   "cell_type": "code",
   "execution_count": null,
   "source": [],
   "outputs": [],
   "metadata": {}
  }
 ],
 "metadata": {
  "orig_nbformat": 4,
  "language_info": {
   "name": "python",
   "version": "3.8.2",
   "mimetype": "text/x-python",
   "codemirror_mode": {
    "name": "ipython",
    "version": 3
   },
   "pygments_lexer": "ipython3",
   "nbconvert_exporter": "python",
   "file_extension": ".py"
  },
  "kernelspec": {
   "name": "python3",
   "display_name": "Python 3.8.2 64-bit"
  },
  "interpreter": {
   "hash": "31f2aee4e71d21fbe5cf8b01ff0e069b9275f58929596ceb00d14d90e3e16cd6"
  }
 },
 "nbformat": 4,
 "nbformat_minor": 2
}