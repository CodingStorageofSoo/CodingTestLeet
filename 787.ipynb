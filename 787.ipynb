{
 "cells": [
  {
   "cell_type": "code",
   "execution_count": 42,
   "source": [
    "n = 4 \n",
    "flights = [[0,1,100],[1,2,100],[2,0,100],[1,3,600],[2,3,200]]\n",
    "src = 0\n",
    "dst = 3\n",
    "K = 1"
   ],
   "outputs": [],
   "metadata": {}
  },
  {
   "cell_type": "code",
   "execution_count": 43,
   "source": [
    "if src == dst:\n",
    "    print(0)"
   ],
   "outputs": [],
   "metadata": {}
  },
  {
   "cell_type": "code",
   "execution_count": 44,
   "source": [
    "from collections import defaultdict\n",
    "\n",
    "d = defaultdict(list)\n",
    "seen = defaultdict (lambda : float('inf'))"
   ],
   "outputs": [],
   "metadata": {}
  },
  {
   "cell_type": "code",
   "execution_count": 45,
   "source": [
    "for From, To, price in flights:\n",
    "    d[From] += [(To, price)]"
   ],
   "outputs": [],
   "metadata": {}
  },
  {
   "cell_type": "code",
   "execution_count": 46,
   "source": [
    "d"
   ],
   "outputs": [
    {
     "output_type": "execute_result",
     "data": {
      "text/plain": [
       "defaultdict(list,\n",
       "            {0: [(1, 100)], 1: [(2, 100), (3, 600)], 2: [(0, 100), (3, 200)]})"
      ]
     },
     "metadata": {},
     "execution_count": 46
    }
   ],
   "metadata": {}
  },
  {
   "cell_type": "code",
   "execution_count": 47,
   "source": [
    "q = [(src, -1, 0)]"
   ],
   "outputs": [],
   "metadata": {}
  },
  {
   "cell_type": "code",
   "execution_count": 48,
   "source": [
    "while q:\n",
    "    print(q)\n",
    "    print(seen)\n",
    "    pos, k , cost = q.pop(0)\n",
    "    if pos == dst or k == K:\n",
    "        continue\n",
    "    for nei, p in d[pos]:\n",
    "        if cost + p >= seen[nei]:\n",
    "            continue\n",
    "        else:\n",
    "            seen[nei] = cost + p\n",
    "            q += [(nei, k+1, cost+p)]"
   ],
   "outputs": [
    {
     "output_type": "stream",
     "name": "stdout",
     "text": [
      "[(0, -1, 0)]\n",
      "defaultdict(<function <lambda> at 0x105ca2160>, {})\n",
      "[(1, 0, 100)]\n",
      "defaultdict(<function <lambda> at 0x105ca2160>, {1: 100})\n",
      "[(2, 1, 200), (3, 1, 700)]\n",
      "defaultdict(<function <lambda> at 0x105ca2160>, {1: 100, 2: 200, 3: 700})\n",
      "[(3, 1, 700)]\n",
      "defaultdict(<function <lambda> at 0x105ca2160>, {1: 100, 2: 200, 3: 700})\n"
     ]
    }
   ],
   "metadata": {}
  },
  {
   "cell_type": "code",
   "execution_count": 41,
   "source": [
    "seen"
   ],
   "outputs": [
    {
     "output_type": "execute_result",
     "data": {
      "text/plain": [
       "defaultdict(<function __main__.<lambda>()>, {1: 100, 2: 200, 3: 700})"
      ]
     },
     "metadata": {},
     "execution_count": 41
    }
   ],
   "metadata": {}
  },
  {
   "cell_type": "code",
   "execution_count": null,
   "source": [],
   "outputs": [],
   "metadata": {}
  }
 ],
 "metadata": {
  "orig_nbformat": 4,
  "language_info": {
   "name": "python",
   "version": "3.8.2",
   "mimetype": "text/x-python",
   "codemirror_mode": {
    "name": "ipython",
    "version": 3
   },
   "pygments_lexer": "ipython3",
   "nbconvert_exporter": "python",
   "file_extension": ".py"
  },
  "kernelspec": {
   "name": "python3",
   "display_name": "Python 3.8.2 64-bit"
  },
  "interpreter": {
   "hash": "31f2aee4e71d21fbe5cf8b01ff0e069b9275f58929596ceb00d14d90e3e16cd6"
  }
 },
 "nbformat": 4,
 "nbformat_minor": 2
}