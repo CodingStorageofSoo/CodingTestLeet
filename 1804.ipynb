{
 "cells": [
  {
   "cell_type": "code",
   "execution_count": 14,
   "source": [
    "null = 4\n",
    "len([null,0,0,0,0,0,null,null,0,0,0,null,0,null,null,null,0,0,0,0,null,0,0,0,null,null,null,null,0,0,0,0,0,null,null,null,0,0,0,0,0,null,null,null,null,0,null,1,null,0,null,0,null,null,null,null,0,0,null,null,null,0,null,null,0,null,0,0,0,null,null,null,0,0,null,0,0,null,1,0,null,null,1,null,null,0,null,0,0,0,null,null,null,null,null,null,0,null,1,0,0,null,0,null,null,1,0,null,0,null,0,1,0,null,null,0,0,0,0,1,null,null,0,null,null,0,1,null,null,null,null,0,null,1,null,null,0,null,null,2,0,null,0,1,null,null,0,null,null,0,null,0,null,1,null,0,1,null,null,0,0,null,null,2,0,0,null,2,null,2,0,0,null,0,1,null,2,null,null,null,null,null,null,null,0,0,0,null,null,null,null,0,null,null,null,null,0,null,null,0,0,0,null,0,null,null,2])"
   ],
   "outputs": [
    {
     "output_type": "execute_result",
     "data": {
      "text/plain": [
       "207"
      ]
     },
     "metadata": {},
     "execution_count": 14
    }
   ],
   "metadata": {}
  },
  {
   "cell_type": "code",
   "execution_count": 15,
   "source": [
    "ra_ = [\"Trie\",\"countWordsEqualTo\",\"countWordsEqualTo\",\"countWordsStartingWith\",\"countWordsStartingWith\",\"countWordsEqualTo\",\"insert\",\"insert\",\"countWordsStartingWith\",\"countWordsStartingWith\",\"countWordsStartingWith\",\"insert\",\"countWordsStartingWith\",\"erase\",\"insert\",\"insert\",\"countWordsStartingWith\",\"countWordsStartingWith\",\"countWordsEqualTo\",\"countWordsStartingWith\",\"insert\",\"countWordsStartingWith\",\"countWordsEqualTo\",\"countWordsEqualTo\",\"erase\",\"insert\",\"erase\",\"insert\",\"countWordsEqualTo\",\"countWordsStartingWith\",\"countWordsStartingWith\",\"countWordsEqualTo\",\"countWordsEqualTo\",\"insert\",\"erase\",\"insert\",\"countWordsEqualTo\",\"countWordsStartingWith\",\"countWordsEqualTo\",\"countWordsEqualTo\",\"countWordsStartingWith\",\"insert\",\"insert\",\"insert\",\"insert\",\"countWordsEqualTo\",\"erase\",\"countWordsStartingWith\",\"insert\",\"countWordsEqualTo\",\"insert\",\"countWordsEqualTo\",\"erase\",\"erase\",\"insert\",\"erase\",\"countWordsStartingWith\",\"countWordsEqualTo\",\"erase\",\"erase\",\"erase\",\"countWordsEqualTo\",\"insert\",\"erase\",\"countWordsStartingWith\",\"insert\",\"countWordsStartingWith\",\"countWordsEqualTo\",\"countWordsEqualTo\",\"insert\",\"erase\",\"insert\",\"countWordsEqualTo\",\"countWordsEqualTo\",\"erase\",\"countWordsEqualTo\",\"countWordsStartingWith\",\"insert\",\"countWordsEqualTo\",\"countWordsStartingWith\",\"erase\",\"erase\",\"countWordsStartingWith\",\"erase\",\"insert\",\"countWordsEqualTo\",\"insert\",\"countWordsEqualTo\",\"countWordsEqualTo\",\"countWordsStartingWith\",\"erase\",\"insert\",\"insert\",\"insert\",\"insert\",\"erase\",\"countWordsStartingWith\",\"insert\",\"countWordsStartingWith\",\"countWordsStartingWith\",\"countWordsStartingWith\",\"erase\",\"countWordsEqualTo\",\"insert\",\"insert\",\"countWordsStartingWith\",\"countWordsEqualTo\",\"insert\",\"countWordsEqualTo\",\"insert\",\"countWordsStartingWith\",\"countWordsEqualTo\",\"countWordsStartingWith\",\"insert\",\"insert\",\"countWordsEqualTo\",\"countWordsEqualTo\",\"countWordsStartingWith\",\"countWordsStartingWith\",\"countWordsEqualTo\",\"insert\",\"insert\",\"countWordsEqualTo\",\"insert\",\"erase\",\"countWordsStartingWith\",\"countWordsEqualTo\",\"insert\",\"insert\",\"insert\",\"erase\",\"countWordsEqualTo\",\"insert\",\"countWordsEqualTo\",\"erase\",\"erase\",\"countWordsEqualTo\",\"erase\",\"insert\",\"countWordsStartingWith\",\"countWordsEqualTo\",\"erase\",\"countWordsStartingWith\",\"countWordsStartingWith\",\"insert\",\"insert\",\"countWordsEqualTo\",\"erase\",\"erase\",\"countWordsEqualTo\",\"erase\",\"countWordsStartingWith\",\"insert\",\"countWordsEqualTo\",\"insert\",\"countWordsStartingWith\",\"countWordsStartingWith\",\"insert\",\"insert\",\"countWordsStartingWith\",\"countWordsEqualTo\",\"insert\",\"insert\",\"countWordsEqualTo\",\"countWordsStartingWith\",\"countWordsStartingWith\",\"insert\",\"countWordsStartingWith\",\"insert\",\"countWordsStartingWith\",\"countWordsEqualTo\",\"countWordsEqualTo\",\"insert\",\"countWordsEqualTo\",\"countWordsEqualTo\",\"insert\",\"countWordsStartingWith\",\"insert\",\"erase\",\"insert\",\"insert\",\"erase\",\"erase\",\"insert\",\"countWordsEqualTo\",\"countWordsEqualTo\",\"countWordsStartingWith\",\"insert\",\"insert\",\"insert\",\"insert\",\"countWordsEqualTo\",\"insert\",\"erase\",\"insert\",\"erase\",\"countWordsEqualTo\",\"erase\",\"erase\",\"countWordsEqualTo\",\"countWordsEqualTo\",\"countWordsStartingWith\",\"erase\",\"countWordsStartingWith\",\"insert\",\"erase\",\"countWordsEqualTo\"]\n"
   ],
   "outputs": [],
   "metadata": {}
  },
  {
   "cell_type": "code",
   "execution_count": 13,
   "source": [
    "len(ra_)"
   ],
   "outputs": [
    {
     "output_type": "execute_result",
     "data": {
      "text/plain": [
       "207"
      ]
     },
     "metadata": {},
     "execution_count": 13
    }
   ],
   "metadata": {}
  },
  {
   "cell_type": "code",
   "execution_count": 16,
   "source": [
    "ra_2 = [[],[\"bp\"],[\"ypg\"],[\"uh\"],[\"t\"],[\"bp\"],[\"hylma\"],[\"q\"],[\"i\"],[\"le\"],[\"biywd\"],[\"t\"],[\"u\"],[\"hylma\"],[\"agoa\"],[\"aq\"],[\"s\"],[\"nslu\"],[\"dbi\"],[\"m\"],[\"f\"],[\"e\"],[\"si\"],[\"i\"],[\"aq\"],[\"oonmr\"],[\"f\"],[\"nxpwu\"],[\"jtx\"],[\"ooqb\"],[\"aq\"],[\"bj\"],[\"u\"],[\"su\"],[\"oonmr\"],[\"xgls\"],[\"dc\"],[\"nww\"],[\"skksv\"],[\"ivomo\"],[\"tw\"],[\"ttzgj\"],[\"nsluj\"],[\"ma\"],[\"qridy\"],[\"dbi\"],[\"xgls\"],[\"a\"],[\"bj\"],[\"iupom\"],[\"agoa\"],[\"am\"],[\"ttzgj\"],[\"agoa\"],[\"htkog\"],[\"bj\"],[\"jlcei\"],[\"ndxzb\"],[\"ma\"],[\"nsluj\"],[\"htkog\"],[\"gjihm\"],[\"chsg\"],[\"qridy\"],[\"b\"],[\"tth\"],[\"p\"],[\"i\"],[\"z\"],[\"am\"],[\"su\"],[\"s\"],[\"vuaz\"],[\"ipph\"],[\"tth\"],[\"oonmr\"],[\"y\"],[\"l\"],[\"am\"],[\"fjr\"],[\"agoa\"],[\"q\"],[\"n\"],[\"nxpwu\"],[\"txbp\"],[\"kbb\"],[\"saido\"],[\"kbb\"],[\"lzfcd\"],[\"bcw\"],[\"saido\"],[\"xgls\"],[\"xy\"],[\"d\"],[\"lrr\"],[\"lrr\"],[\"ryls\"],[\"sqj\"],[\"d\"],[\"el\"],[\"p\"],[\"s\"],[\"xtpeg\"],[\"htkog\"],[\"vzwp\"],[\"s\"],[\"ivomo\"],[\"kaeh\"],[\"gsflr\"],[\"t\"],[\"ge\"],[\"l\"],[\"sezdm\"],[\"y\"],[\"gedcj\"],[\"led\"],[\"nn\"],[\"riiuc\"],[\"e\"],[\"xy\"],[\"si\"],[\"f\"],[\"njhh\"],[\"xtpeg\"],[\"gedcj\"],[\"jlcei\"],[\"sqj\"],[\"ttzgj\"],[\"skksv\"],[\"y\"],[\"am\"],[\"aq\"],[\"zi\"],[\"txbp\"],[\"zi\"],[\"ttzgj\"],[\"ttzgj\"],[\"xgls\"],[\"ut\"],[\"y\"],[\"wdv\"],[\"t\"],[\"jrcy\"],[\"f\"],[\"r\"],[\"kaeh\"],[\"subvh\"],[\"xy\"],[\"xtpeg\"],[\"twba\"],[\"f\"],[\"xtpe\"],[\"lrr\"],[\"u\"],[\"bcwx\"],[\"uv\"],[\"c\"],[\"i\"],[\"xnxy\"],[\"ttzgj\"],[\"su\"],[\"b\"],[\"dztwa\"],[\"l\"],[\"a\"],[\"pu\"],[\"a\"],[\"l\"],[\"ys\"],[\"b\"],[\"ypg\"],[\"cs\"],[\"dfi\"],[\"q\"],[\"i\"],[\"dbi\"],[\"t\"],[\"gsflr\"],[\"t\"],[\"riiuc\"],[\"wdv\"],[\"htkog\"],[\"l\"],[\"txbp\"],[\"subvh\"],[\"rylsi\"],[\"kjb\"],[\"subvh\"],[\"jlcei\"],[\"wdv\"],[\"eq\"],[\"njhh\"],[\"y\"],[\"vzwp\"],[\"rd\"],[\"chsg\"],[\"am\"],[\"r\"],[\"a\"],[\"iupom\"],[\"nn\"],[\"q\"],[\"y\"],[\"o\"],[\"osxu\"],[\"kaeh\"],[\"r\"],[\"ws\"],[\"z\"],[\"wxpc\"],[\"b\"],[\"vu\"],[\"dc\"],[\"p\"],[\"ut\"],[\"tth\"],[\"gedcj\"],[\"ek\"],[\"rd\"],[\"y\"],[\"gsflr\"],[\"jtx\"],[\"am\"],[\"epb\"],[\"led\"],[\"tth\"],[\"cs\"],[\"osxu\"],[\"iovrz\"],[\"dbi\"],[\"u\"],[\"bcwx\"],[\"bj\"],[\"wdv\"],[\"kji\"],[\"bcwx\"],[\"skksv\"],[\"y\"],[\"j\"],[\"wdv\"],[\"w\"],[\"epbs\"],[\"riiuc\"],[\"qt\"],[\"i\"],[\"wd\"],[\"oxwm\"],[\"am\"],[\"pmnj\"],[\"led\"],[\"lg\"],[\"aei\"],[\"a\"],[\"g\"],[\"rylsi\"],[\"biywd\"],[\"s\"],[\"y\"],[\"sezdm\"],[\"brnzz\"],[\"t\"],[\"wxpc\"],[\"hylma\"],[\"iupom\"],[\"ypqq\"],[\"f\"],[\"lrr\"],[\"brnzz\"],[\"sqj\"],[\"biywd\"],[\"eq\"],[\"el\"],[\"xy\"],[\"n\"],[\"qridy\"],[\"chsg\"],[\"kaeh\"],[\"jkqfe\"],[\"sj\"],[\"n\"],[\"biywd\"],[\"bcf\"],[\"i\"],[\"riiu\"],[\"ys\"],[\"cs\"],[\"lrr\"],[\"qhjy\"],[\"nn\"],[\"y\"],[\"wxp\"],[\"iovrz\"],[\"wx\"],[\"hog\"],[\"chsg\"],[\"bs\"],[\"qhj\"],[\"brnzz\"],[\"tt\"],[\"cs\"],[\"iz\"],[\"q\"],[\"c\"],[\"nsluj\"],[\"ndx\"],[\"htk\"],[\"uhfd\"],[\"u\"],[\"gedcj\"],[\"kaeh\"],[\"fjroo\"],[\"liu\"],[\"nsluj\"],[\"pmnj\"],[\"gjihm\"],[\"si\"],[\"bp\"],[\"kjbys\"],[\"bp\"],[\"i\"],[\"gv\"],[\"uvf\"],[\"cs\"],[\"cs\"],[\"sezdm\"],[\"kaeh\"],[\"y\"],[\"jkqfe\"]]"
   ],
   "outputs": [],
   "metadata": {}
  },
  {
   "cell_type": "code",
   "execution_count": 20,
   "source": [
    "ra_3 = ra_2 [0:207]"
   ],
   "outputs": [],
   "metadata": {}
  },
  {
   "cell_type": "code",
   "execution_count": 21,
   "source": [
    "len(ra_3)"
   ],
   "outputs": [
    {
     "output_type": "execute_result",
     "data": {
      "text/plain": [
       "207"
      ]
     },
     "metadata": {},
     "execution_count": 21
    }
   ],
   "metadata": {}
  },
  {
   "cell_type": "code",
   "execution_count": 22,
   "source": [
    "ra_3"
   ],
   "outputs": [
    {
     "output_type": "execute_result",
     "data": {
      "text/plain": [
       "[[],\n",
       " ['bp'],\n",
       " ['ypg'],\n",
       " ['uh'],\n",
       " ['t'],\n",
       " ['bp'],\n",
       " ['hylma'],\n",
       " ['q'],\n",
       " ['i'],\n",
       " ['le'],\n",
       " ['biywd'],\n",
       " ['t'],\n",
       " ['u'],\n",
       " ['hylma'],\n",
       " ['agoa'],\n",
       " ['aq'],\n",
       " ['s'],\n",
       " ['nslu'],\n",
       " ['dbi'],\n",
       " ['m'],\n",
       " ['f'],\n",
       " ['e'],\n",
       " ['si'],\n",
       " ['i'],\n",
       " ['aq'],\n",
       " ['oonmr'],\n",
       " ['f'],\n",
       " ['nxpwu'],\n",
       " ['jtx'],\n",
       " ['ooqb'],\n",
       " ['aq'],\n",
       " ['bj'],\n",
       " ['u'],\n",
       " ['su'],\n",
       " ['oonmr'],\n",
       " ['xgls'],\n",
       " ['dc'],\n",
       " ['nww'],\n",
       " ['skksv'],\n",
       " ['ivomo'],\n",
       " ['tw'],\n",
       " ['ttzgj'],\n",
       " ['nsluj'],\n",
       " ['ma'],\n",
       " ['qridy'],\n",
       " ['dbi'],\n",
       " ['xgls'],\n",
       " ['a'],\n",
       " ['bj'],\n",
       " ['iupom'],\n",
       " ['agoa'],\n",
       " ['am'],\n",
       " ['ttzgj'],\n",
       " ['agoa'],\n",
       " ['htkog'],\n",
       " ['bj'],\n",
       " ['jlcei'],\n",
       " ['ndxzb'],\n",
       " ['ma'],\n",
       " ['nsluj'],\n",
       " ['htkog'],\n",
       " ['gjihm'],\n",
       " ['chsg'],\n",
       " ['qridy'],\n",
       " ['b'],\n",
       " ['tth'],\n",
       " ['p'],\n",
       " ['i'],\n",
       " ['z'],\n",
       " ['am'],\n",
       " ['su'],\n",
       " ['s'],\n",
       " ['vuaz'],\n",
       " ['ipph'],\n",
       " ['tth'],\n",
       " ['oonmr'],\n",
       " ['y'],\n",
       " ['l'],\n",
       " ['am'],\n",
       " ['fjr'],\n",
       " ['agoa'],\n",
       " ['q'],\n",
       " ['n'],\n",
       " ['nxpwu'],\n",
       " ['txbp'],\n",
       " ['kbb'],\n",
       " ['saido'],\n",
       " ['kbb'],\n",
       " ['lzfcd'],\n",
       " ['bcw'],\n",
       " ['saido'],\n",
       " ['xgls'],\n",
       " ['xy'],\n",
       " ['d'],\n",
       " ['lrr'],\n",
       " ['lrr'],\n",
       " ['ryls'],\n",
       " ['sqj'],\n",
       " ['d'],\n",
       " ['el'],\n",
       " ['p'],\n",
       " ['s'],\n",
       " ['xtpeg'],\n",
       " ['htkog'],\n",
       " ['vzwp'],\n",
       " ['s'],\n",
       " ['ivomo'],\n",
       " ['kaeh'],\n",
       " ['gsflr'],\n",
       " ['t'],\n",
       " ['ge'],\n",
       " ['l'],\n",
       " ['sezdm'],\n",
       " ['y'],\n",
       " ['gedcj'],\n",
       " ['led'],\n",
       " ['nn'],\n",
       " ['riiuc'],\n",
       " ['e'],\n",
       " ['xy'],\n",
       " ['si'],\n",
       " ['f'],\n",
       " ['njhh'],\n",
       " ['xtpeg'],\n",
       " ['gedcj'],\n",
       " ['jlcei'],\n",
       " ['sqj'],\n",
       " ['ttzgj'],\n",
       " ['skksv'],\n",
       " ['y'],\n",
       " ['am'],\n",
       " ['aq'],\n",
       " ['zi'],\n",
       " ['txbp'],\n",
       " ['zi'],\n",
       " ['ttzgj'],\n",
       " ['ttzgj'],\n",
       " ['xgls'],\n",
       " ['ut'],\n",
       " ['y'],\n",
       " ['wdv'],\n",
       " ['t'],\n",
       " ['jrcy'],\n",
       " ['f'],\n",
       " ['r'],\n",
       " ['kaeh'],\n",
       " ['subvh'],\n",
       " ['xy'],\n",
       " ['xtpeg'],\n",
       " ['twba'],\n",
       " ['f'],\n",
       " ['xtpe'],\n",
       " ['lrr'],\n",
       " ['u'],\n",
       " ['bcwx'],\n",
       " ['uv'],\n",
       " ['c'],\n",
       " ['i'],\n",
       " ['xnxy'],\n",
       " ['ttzgj'],\n",
       " ['su'],\n",
       " ['b'],\n",
       " ['dztwa'],\n",
       " ['l'],\n",
       " ['a'],\n",
       " ['pu'],\n",
       " ['a'],\n",
       " ['l'],\n",
       " ['ys'],\n",
       " ['b'],\n",
       " ['ypg'],\n",
       " ['cs'],\n",
       " ['dfi'],\n",
       " ['q'],\n",
       " ['i'],\n",
       " ['dbi'],\n",
       " ['t'],\n",
       " ['gsflr'],\n",
       " ['t'],\n",
       " ['riiuc'],\n",
       " ['wdv'],\n",
       " ['htkog'],\n",
       " ['l'],\n",
       " ['txbp'],\n",
       " ['subvh'],\n",
       " ['rylsi'],\n",
       " ['kjb'],\n",
       " ['subvh'],\n",
       " ['jlcei'],\n",
       " ['wdv'],\n",
       " ['eq'],\n",
       " ['njhh'],\n",
       " ['y'],\n",
       " ['vzwp'],\n",
       " ['rd'],\n",
       " ['chsg'],\n",
       " ['am'],\n",
       " ['r'],\n",
       " ['a'],\n",
       " ['iupom'],\n",
       " ['nn'],\n",
       " ['q'],\n",
       " ['y'],\n",
       " ['o'],\n",
       " ['osxu'],\n",
       " ['kaeh'],\n",
       " ['r']]"
      ]
     },
     "metadata": {},
     "execution_count": 22
    }
   ],
   "metadata": {}
  },
  {
   "cell_type": "code",
   "execution_count": null,
   "source": [
    "\n",
    "\n",
    "class TrieNode (object):\n",
    "    def __init__ (self):\n",
    "        self.children = defaultdict(TrieNode)\n",
    "        self.count = 0\n",
    "        self.isWord = 0\n",
    "        \n",
    "class Trie:\n",
    "    def __init__(self):\n",
    "        self.root = TrieNode()\n",
    "\n",
    "    def insert(self, word: str) -> None:\n",
    "        current = self.root\n",
    "        for char in word:\n",
    "            current = current.children[char]\n",
    "            current.count += 1\n",
    "        current.isWord += 1\n",
    "\n",
    "    def countWordsEqualTo(self, word: str) -> int:\n",
    "        current = self.root\n",
    "        for char in word:\n",
    "            if char not in current.children:\n",
    "                return 0\n",
    "            elif current.children[char].count == 0:\n",
    "                return 0\n",
    "            else:\n",
    "                current = current.children[char]\n",
    "        return current.isWord \n",
    "            \n",
    "    def countWordsStartingWith(self, prefix: str) -> int:\n",
    "        current = self.root\n",
    "        for char in prefix:\n",
    "            if char not in current.children:\n",
    "                return 0\n",
    "            elif current.children[char].count == 0:\n",
    "                return 0\n",
    "            else:\n",
    "                current = current.children[char]\n",
    "        return current.count\n",
    "\n",
    "    def erase(self, word: str) -> None:\n",
    "        current = self.root\n",
    "        for char in word:\n",
    "            current = current.children[char]\n",
    "            current.count -= 1\n",
    "        current.isWord -= 1"
   ],
   "outputs": [],
   "metadata": {}
  }
 ],
 "metadata": {
  "orig_nbformat": 4,
  "language_info": {
   "name": "python",
   "version": "3.8.2",
   "mimetype": "text/x-python",
   "codemirror_mode": {
    "name": "ipython",
    "version": 3
   },
   "pygments_lexer": "ipython3",
   "nbconvert_exporter": "python",
   "file_extension": ".py"
  },
  "kernelspec": {
   "name": "python3",
   "display_name": "Python 3.8.2 64-bit"
  },
  "interpreter": {
   "hash": "31f2aee4e71d21fbe5cf8b01ff0e069b9275f58929596ceb00d14d90e3e16cd6"
  }
 },
 "nbformat": 4,
 "nbformat_minor": 2
}