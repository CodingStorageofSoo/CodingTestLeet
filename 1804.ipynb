{
 "cells": [
  {
   "cell_type": "code",
   "execution_count": null,
   "source": [
    "from collections import defaultdict\n",
    "\n",
    "class TrieNode (object):\n",
    "    def __init__ (self):\n",
    "        self.children = defaultdict(TrieNode)\n",
    "        self.count = 0\n",
    "        self.isWord = 0\n",
    "        \n",
    "class Trie (object):\n",
    "\n",
    "    def __init__(self):\n",
    "        self.root = TrieNode()\n",
    "\n",
    "    def insert(self, word: str) -> None:\n",
    "        current = self.root\n",
    "        for char in word:\n",
    "            current = current.children[char]\n",
    "            current.count += 1\n",
    "        current.isWord += 1\n",
    "\n",
    "    def countWordsEqualTo(self, word: str) -> int:\n",
    "        current = self.root\n",
    "        for char in word:\n",
    "            if char not in current.children:\n",
    "                return 0\n",
    "            elif current.children[char].count == 0:\n",
    "                return 0\n",
    "            else:\n",
    "                current = current.children[char]\n",
    "        return current.isWord\n",
    "            \n",
    "    def countWordsStartingWith(self, prefix: str) -> int:\n",
    "        current = self.root\n",
    "        for char in prefix:\n",
    "            if char not in current.children:\n",
    "                return 0\n",
    "            elif current.children[char].count == 0:\n",
    "                return 0\n",
    "            else:\n",
    "                current = current.children[char]\n",
    "        return current.count\n",
    "\n",
    "    def erase(self, word: str) -> None:\n",
    "        current = self.root\n",
    "        for char in word:\n",
    "            if char in current.children:\n",
    "                current = current.children[char]\n",
    "                if current.count != 0:\n",
    "                    current.count -= 1\n",
    "            else:\n",
    "                return False\n",
    "        current.isWord -= 1\n",
    "\n",
    "\n",
    "\n"
   ],
   "outputs": [],
   "metadata": {}
  }
 ],
 "metadata": {
  "orig_nbformat": 4,
  "language_info": {
   "name": "python",
   "version": "3.8.2",
   "mimetype": "text/x-python",
   "codemirror_mode": {
    "name": "ipython",
    "version": 3
   },
   "pygments_lexer": "ipython3",
   "nbconvert_exporter": "python",
   "file_extension": ".py"
  },
  "kernelspec": {
   "name": "python3",
   "display_name": "Python 3.8.2 64-bit"
  },
  "interpreter": {
   "hash": "31f2aee4e71d21fbe5cf8b01ff0e069b9275f58929596ceb00d14d90e3e16cd6"
  }
 },
 "nbformat": 4,
 "nbformat_minor": 2
}