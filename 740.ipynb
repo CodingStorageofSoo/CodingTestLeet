{
 "cells": [
  {
   "cell_type": "code",
   "execution_count": 1,
   "metadata": {},
   "outputs": [],
   "source": [
    "nums = [1,6,3,3,8,4,8,10,1,3]"
   ]
  },
  {
   "cell_type": "code",
   "execution_count": 3,
   "metadata": {},
   "outputs": [],
   "source": [
    "# Step1. From 128\n",
    "        \n",
    "sequence = []\n",
    "sequence_list = []\n",
    "nums_set = sorted(set(nums))\n",
    "for num in nums_set:\n",
    "    if (num-1) not in nums_set:\n",
    "        tmp = []\n",
    "        current_num = num\n",
    "        while current_num+1 in nums_set:\n",
    "            tmp.append(current_num)\n",
    "            current_num += 1\n",
    "        tmp.append(current_num)\n",
    "        if len(tmp) >= 2:\n",
    "            sequence.append(tmp)"
   ]
  },
  {
   "cell_type": "code",
   "execution_count": 6,
   "metadata": {},
   "outputs": [
    {
     "data": {
      "text/plain": [
       "[1, 3, 4, 6, 8, 10]"
      ]
     },
     "execution_count": 6,
     "metadata": {},
     "output_type": "execute_result"
    }
   ],
   "source": [
    "nums_set"
   ]
  },
  {
   "cell_type": "code",
   "execution_count": 5,
   "metadata": {},
   "outputs": [
    {
     "data": {
      "text/plain": [
       "[[3, 4]]"
      ]
     },
     "execution_count": 5,
     "metadata": {},
     "output_type": "execute_result"
    }
   ],
   "source": [
    "sequence"
   ]
  },
  {
   "cell_type": "code",
   "execution_count": 9,
   "metadata": {},
   "outputs": [],
   "source": [
    "# Step2.\n",
    "        \n",
    "frequency = {}\n",
    "for num in nums_set:\n",
    "    frequency[num] = 0 \n",
    "\n",
    "for num in nums:\n",
    "    frequency[num] += 1 \n",
    "                   "
   ]
  },
  {
   "cell_type": "code",
   "execution_count": 10,
   "metadata": {},
   "outputs": [
    {
     "data": {
      "text/plain": [
       "{1: 2, 3: 3, 4: 1, 6: 1, 8: 2, 10: 1}"
      ]
     },
     "execution_count": 10,
     "metadata": {},
     "output_type": "execute_result"
    }
   ],
   "source": [
    "frequency"
   ]
  },
  {
   "cell_type": "code",
   "execution_count": 11,
   "metadata": {},
   "outputs": [],
   "source": [
    "# Step3. \n",
    "\n",
    "dp_candi = []\n",
    "for seq in sequence:\n",
    "    tmp = []\n",
    "    for num_ in seq:\n",
    "        tmp.append(frequency[num_] * num_ )\n",
    "    dp_candi.append(tmp)     "
   ]
  },
  {
   "cell_type": "code",
   "execution_count": 12,
   "metadata": {},
   "outputs": [
    {
     "data": {
      "text/plain": [
       "[[9, 4]]"
      ]
     },
     "execution_count": 12,
     "metadata": {},
     "output_type": "execute_result"
    }
   ],
   "source": [
    "dp_candi"
   ]
  },
  {
   "cell_type": "code",
   "execution_count": 13,
   "metadata": {},
   "outputs": [],
   "source": [
    "# Step4. From 198\n",
    "\n",
    "def find(nums_list):\n",
    "    dp = [[] for _ in range(len(nums_list))]\n",
    "    if len(nums_list) == 1:\n",
    "        return nums_list[-1]\n",
    "    dp[0] = nums_list[0]\n",
    "    dp[1] = max(nums_list[0], nums_list[1])\n",
    "    for i in range(2, len(nums_list)):\n",
    "        dp[i] = max(nums_list[i]+dp[i-2], dp[i-1])\n",
    "    return dp[-1]"
   ]
  },
  {
   "cell_type": "code",
   "execution_count": 15,
   "metadata": {},
   "outputs": [
    {
     "data": {
      "text/plain": [
       "[9]"
      ]
     },
     "execution_count": 15,
     "metadata": {},
     "output_type": "execute_result"
    }
   ],
   "source": [
    "# Step5. after DP\n",
    "        \n",
    "final = []\n",
    "for candi in dp_candi:\n",
    "    final.append(find(candi))\n",
    "final"
   ]
  },
  {
   "cell_type": "code",
   "execution_count": 16,
   "metadata": {},
   "outputs": [],
   "source": [
    "except_nums = set(nums)\n",
    "for seq in sequence:\n",
    "    except_nums = except_nums - set(seq)\n",
    "\n",
    "for num in nums_set:\n",
    "    if num in except_nums :\n",
    "        final.append(frequency[num] * num)\n"
   ]
  },
  {
   "cell_type": "code",
   "execution_count": 17,
   "metadata": {},
   "outputs": [
    {
     "data": {
      "text/plain": [
       "43"
      ]
     },
     "execution_count": 17,
     "metadata": {},
     "output_type": "execute_result"
    }
   ],
   "source": [
    "sum(final)"
   ]
  },
  {
   "cell_type": "code",
   "execution_count": null,
   "metadata": {},
   "outputs": [],
   "source": []
  }
 ],
 "metadata": {
  "interpreter": {
   "hash": "3516fe392b73aa4c2da58fe314a090916ee110d0f8fe6cfd79b4ffaff3759604"
  },
  "kernelspec": {
   "display_name": "Python 3.10.0 64-bit",
   "language": "python",
   "name": "python3"
  },
  "language_info": {
   "codemirror_mode": {
    "name": "ipython",
    "version": 3
   },
   "file_extension": ".py",
   "mimetype": "text/x-python",
   "name": "python",
   "nbconvert_exporter": "python",
   "pygments_lexer": "ipython3",
   "version": "3.10.0"
  },
  "orig_nbformat": 4
 },
 "nbformat": 4,
 "nbformat_minor": 2
}
