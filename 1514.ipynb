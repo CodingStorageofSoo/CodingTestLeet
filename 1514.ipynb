{
 "cells": [
  {
   "cell_type": "code",
   "execution_count": 5,
   "source": [
    "n = 3\n",
    "edges = [[0,1],[1,2],[0,2]]\n",
    "succProb = [0.5,0.5,0.2]\n",
    "start = 0\n",
    "end = 2"
   ],
   "outputs": [],
   "metadata": {}
  },
  {
   "cell_type": "code",
   "execution_count": 6,
   "source": [
    "from collections import defaultdict\n",
    "\n",
    "p = [0] * n\n",
    "g = defaultdict(list)"
   ],
   "outputs": [],
   "metadata": {}
  },
  {
   "cell_type": "code",
   "execution_count": 7,
   "source": [
    "for index, (a, b) in enumerate(edges):\n",
    "    g[a].append((b, index))\n",
    "    g[b].append((b, index))"
   ],
   "outputs": [],
   "metadata": {}
  },
  {
   "cell_type": "code",
   "execution_count": 8,
   "source": [
    "p[start] = 1"
   ],
   "outputs": [],
   "metadata": {}
  },
  {
   "cell_type": "code",
   "execution_count": 10,
   "source": [
    "heap = [(-p[start], start)]"
   ],
   "outputs": [],
   "metadata": {}
  },
  {
   "cell_type": "code",
   "execution_count": null,
   "source": [
    "from heapq import heappush, heappop\n",
    "\n",
    "while heap : \n",
    "    prob, cur = heappop(heap)\n",
    "    if cur == end :\n",
    "        return -prob\n",
    "    for neighbor, index in g.get(cur, []):\n",
    "        if -prob * succProb[index] > p[neighbor]:\n",
    "            p[neighbor] = -prob * succProb[index]\n",
    "            heappush (heap, (-p[neighbor], neighbor))\n",
    " \n",
    "\n"
   ],
   "outputs": [],
   "metadata": {}
  }
 ],
 "metadata": {
  "orig_nbformat": 4,
  "language_info": {
   "name": "python",
   "version": "3.8.2",
   "mimetype": "text/x-python",
   "codemirror_mode": {
    "name": "ipython",
    "version": 3
   },
   "pygments_lexer": "ipython3",
   "nbconvert_exporter": "python",
   "file_extension": ".py"
  },
  "kernelspec": {
   "name": "python3",
   "display_name": "Python 3.8.2 64-bit"
  },
  "interpreter": {
   "hash": "31f2aee4e71d21fbe5cf8b01ff0e069b9275f58929596ceb00d14d90e3e16cd6"
  }
 },
 "nbformat": 4,
 "nbformat_minor": 2
}