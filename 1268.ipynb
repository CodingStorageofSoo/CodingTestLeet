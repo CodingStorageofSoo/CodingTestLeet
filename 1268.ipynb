{
 "cells": [
  {
   "cell_type": "code",
   "execution_count": 109,
   "metadata": {},
   "outputs": [],
   "source": [
    "products = [\"mobile\",\"mouse\",\"moneypot\",\"monitor\",\"mousepad\"]\n",
    "searchWord = \"mouse\""
   ]
  },
  {
   "cell_type": "code",
   "execution_count": 110,
   "metadata": {},
   "outputs": [
    {
     "data": {
      "text/plain": [
       "['mobile', 'moneypot', 'monitor', 'mouse', 'mousepad']"
      ]
     },
     "execution_count": 110,
     "metadata": {},
     "output_type": "execute_result"
    }
   ],
   "source": [
    "products = sorted(products)\n",
    "products"
   ]
  },
  {
   "cell_type": "code",
   "execution_count": 111,
   "metadata": {},
   "outputs": [],
   "source": [
    "trie = {}\n",
    "products = sorted(products)\n",
    "for product in products:\n",
    "    node = trie \n",
    "    for letter in product:\n",
    "        node = node.setdefault(letter, {})\n",
    "    node['Word'] = product "
   ]
  },
  {
   "cell_type": "code",
   "execution_count": 112,
   "metadata": {},
   "outputs": [],
   "source": [
    "\n",
    "def print_three (trie) :\n",
    "    \n",
    "    node = trie\n",
    "    global cnt\n",
    "    global ans\n",
    "    if cnt <= 2:\n",
    "        for letter in node:\n",
    "            if 'Word' in node[letter] :\n",
    "                cnt += 1 \n",
    "                ans.append(node[letter]['Word'])\n",
    "            else:\n",
    "                print_three(node[letter])        "
   ]
  },
  {
   "cell_type": "code",
   "execution_count": 115,
   "metadata": {},
   "outputs": [
    {
     "name": "stdout",
     "output_type": "stream",
     "text": [
      "['mouse']\n"
     ]
    }
   ],
   "source": [
    "cnt = 0\n",
    "ans = []\n",
    "print_three (trie['m']['o']['u']) \n",
    "print(ans)"
   ]
  },
  {
   "cell_type": "code",
   "execution_count": 116,
   "metadata": {},
   "outputs": [
    {
     "data": {
      "text/plain": [
       "{'s': {'e': {'Word': 'mouse', 'p': {'a': {'d': {'Word': 'mousepad'}}}}}}"
      ]
     },
     "execution_count": 116,
     "metadata": {},
     "output_type": "execute_result"
    }
   ],
   "source": [
    "trie['m']['o']['u']"
   ]
  },
  {
   "cell_type": "code",
   "execution_count": 108,
   "metadata": {},
   "outputs": [
    {
     "name": "stdout",
     "output_type": "stream",
     "text": [
      "['mobile', 'moneypot', 'monitor']\n",
      "['mobile', 'moneypot', 'monitor']\n",
      "['mouse']\n",
      "['mouse']\n"
     ]
    },
    {
     "ename": "TypeError",
     "evalue": "string indices must be integers",
     "output_type": "error",
     "traceback": [
      "\u001b[1;31m---------------------------------------------------------------------------\u001b[0m",
      "\u001b[1;31mTypeError\u001b[0m                                 Traceback (most recent call last)",
      "\u001b[1;32mc:\\Users\\chlqu\\OneDrive\\바탕 화면\\CodingTestLeet\\1268.ipynb Cell 5'\u001b[0m in \u001b[0;36m<module>\u001b[1;34m\u001b[0m\n\u001b[0;32m      <a href='vscode-notebook-cell:/c%3A/Users/chlqu/OneDrive/%EB%B0%94%ED%83%95%20%ED%99%94%EB%A9%B4/CodingTestLeet/1268.ipynb#ch0000004?line=2'>3</a>\u001b[0m cnt \u001b[39m=\u001b[39m \u001b[39m0\u001b[39m\n\u001b[0;32m      <a href='vscode-notebook-cell:/c%3A/Users/chlqu/OneDrive/%EB%B0%94%ED%83%95%20%ED%99%94%EB%A9%B4/CodingTestLeet/1268.ipynb#ch0000004?line=3'>4</a>\u001b[0m ans \u001b[39m=\u001b[39m []\n\u001b[1;32m----> <a href='vscode-notebook-cell:/c%3A/Users/chlqu/OneDrive/%EB%B0%94%ED%83%95%20%ED%99%94%EB%A9%B4/CodingTestLeet/1268.ipynb#ch0000004?line=4'>5</a>\u001b[0m print_three (current[find_letter])\n\u001b[0;32m      <a href='vscode-notebook-cell:/c%3A/Users/chlqu/OneDrive/%EB%B0%94%ED%83%95%20%ED%99%94%EB%A9%B4/CodingTestLeet/1268.ipynb#ch0000004?line=5'>6</a>\u001b[0m \u001b[39mprint\u001b[39m(ans)\n\u001b[0;32m      <a href='vscode-notebook-cell:/c%3A/Users/chlqu/OneDrive/%EB%B0%94%ED%83%95%20%ED%99%94%EB%A9%B4/CodingTestLeet/1268.ipynb#ch0000004?line=6'>7</a>\u001b[0m current \u001b[39m=\u001b[39m current[find_letter]\n",
      "\u001b[1;32mc:\\Users\\chlqu\\OneDrive\\바탕 화면\\CodingTestLeet\\1268.ipynb Cell 4'\u001b[0m in \u001b[0;36mprint_three\u001b[1;34m(trie)\u001b[0m\n\u001b[0;32m     <a href='vscode-notebook-cell:/c%3A/Users/chlqu/OneDrive/%EB%B0%94%ED%83%95%20%ED%99%94%EB%A9%B4/CodingTestLeet/1268.ipynb#ch0000005?line=9'>10</a>\u001b[0m     ans\u001b[39m.\u001b[39mappend(node[letter][\u001b[39m'\u001b[39m\u001b[39mWord\u001b[39m\u001b[39m'\u001b[39m])\n\u001b[0;32m     <a href='vscode-notebook-cell:/c%3A/Users/chlqu/OneDrive/%EB%B0%94%ED%83%95%20%ED%99%94%EB%A9%B4/CodingTestLeet/1268.ipynb#ch0000005?line=10'>11</a>\u001b[0m \u001b[39melse\u001b[39;00m:\n\u001b[1;32m---> <a href='vscode-notebook-cell:/c%3A/Users/chlqu/OneDrive/%EB%B0%94%ED%83%95%20%ED%99%94%EB%A9%B4/CodingTestLeet/1268.ipynb#ch0000005?line=11'>12</a>\u001b[0m     print_three(node[letter])\n",
      "\u001b[1;32mc:\\Users\\chlqu\\OneDrive\\바탕 화면\\CodingTestLeet\\1268.ipynb Cell 4'\u001b[0m in \u001b[0;36mprint_three\u001b[1;34m(trie)\u001b[0m\n\u001b[0;32m      <a href='vscode-notebook-cell:/c%3A/Users/chlqu/OneDrive/%EB%B0%94%ED%83%95%20%ED%99%94%EB%A9%B4/CodingTestLeet/1268.ipynb#ch0000005?line=5'>6</a>\u001b[0m \u001b[39mif\u001b[39;00m cnt \u001b[39m<\u001b[39m\u001b[39m=\u001b[39m \u001b[39m2\u001b[39m:\n\u001b[0;32m      <a href='vscode-notebook-cell:/c%3A/Users/chlqu/OneDrive/%EB%B0%94%ED%83%95%20%ED%99%94%EB%A9%B4/CodingTestLeet/1268.ipynb#ch0000005?line=6'>7</a>\u001b[0m     \u001b[39mfor\u001b[39;00m letter \u001b[39min\u001b[39;00m node:\n\u001b[1;32m----> <a href='vscode-notebook-cell:/c%3A/Users/chlqu/OneDrive/%EB%B0%94%ED%83%95%20%ED%99%94%EB%A9%B4/CodingTestLeet/1268.ipynb#ch0000005?line=7'>8</a>\u001b[0m         \u001b[39mif\u001b[39;00m \u001b[39m'\u001b[39m\u001b[39mWord\u001b[39m\u001b[39m'\u001b[39m \u001b[39min\u001b[39;00m node[letter] :\n\u001b[0;32m      <a href='vscode-notebook-cell:/c%3A/Users/chlqu/OneDrive/%EB%B0%94%ED%83%95%20%ED%99%94%EB%A9%B4/CodingTestLeet/1268.ipynb#ch0000005?line=8'>9</a>\u001b[0m             cnt \u001b[39m+\u001b[39m\u001b[39m=\u001b[39m \u001b[39m1\u001b[39m \n\u001b[0;32m     <a href='vscode-notebook-cell:/c%3A/Users/chlqu/OneDrive/%EB%B0%94%ED%83%95%20%ED%99%94%EB%A9%B4/CodingTestLeet/1268.ipynb#ch0000005?line=9'>10</a>\u001b[0m             ans\u001b[39m.\u001b[39mappend(node[letter][\u001b[39m'\u001b[39m\u001b[39mWord\u001b[39m\u001b[39m'\u001b[39m])\n",
      "\u001b[1;31mTypeError\u001b[0m: string indices must be integers"
     ]
    }
   ],
   "source": [
    "current = trie\n",
    "for find_letter in searchWord:\n",
    "    cnt = 0\n",
    "    ans = []\n",
    "    print_three (current[find_letter])\n",
    "    print(ans)\n",
    "    current = current[find_letter]\n",
    "    "
   ]
  },
  {
   "cell_type": "code",
   "execution_count": null,
   "metadata": {},
   "outputs": [],
   "source": []
  }
 ],
 "metadata": {
  "interpreter": {
   "hash": "5aeacfe1105f4ceda53f6b2dcb5795f42a9befc5995ea92b86c85e78e81f5e2d"
  },
  "kernelspec": {
   "display_name": "Python 3.10.0 64-bit",
   "language": "python",
   "name": "python3"
  },
  "language_info": {
   "codemirror_mode": {
    "name": "ipython",
    "version": 3
   },
   "file_extension": ".py",
   "mimetype": "text/x-python",
   "name": "python",
   "nbconvert_exporter": "python",
   "pygments_lexer": "ipython3",
   "version": "3.10.0"
  },
  "orig_nbformat": 4
 },
 "nbformat": 4,
 "nbformat_minor": 2
}
